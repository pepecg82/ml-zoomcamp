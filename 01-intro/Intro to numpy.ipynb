{
 "cells": [
  {
   "cell_type": "code",
   "execution_count": 1,
   "id": "c5c8c58b-933b-45f0-8836-529bb44956cf",
   "metadata": {},
   "outputs": [],
   "source": [
    "import numpy as np"
   ]
  },
  {
   "cell_type": "code",
   "execution_count": 2,
   "id": "f847a42c-b003-4d4d-861d-920866bae881",
   "metadata": {},
   "outputs": [
    {
     "data": {
      "text/plain": [
       "<module 'numpy' from '/home/codespace/.local/lib/python3.12/site-packages/numpy/__init__.py'>"
      ]
     },
     "execution_count": 2,
     "metadata": {},
     "output_type": "execute_result"
    }
   ],
   "source": [
    "np"
   ]
  },
  {
   "cell_type": "code",
   "execution_count": 3,
   "id": "fe773037-08a0-48f0-ab05-984119493b70",
   "metadata": {},
   "outputs": [
    {
     "data": {
      "text/plain": [
       "array([0., 0., 0., 0., 0.])"
      ]
     },
     "execution_count": 3,
     "metadata": {},
     "output_type": "execute_result"
    }
   ],
   "source": [
    "np.zeros(5)"
   ]
  },
  {
   "cell_type": "code",
   "execution_count": 4,
   "id": "da1a89b6-cd6d-45d4-a284-1a41bc3cbe78",
   "metadata": {},
   "outputs": [
    {
     "data": {
      "text/plain": [
       "array([1., 1., 1., 1., 1., 1., 1., 1., 1., 1.])"
      ]
     },
     "execution_count": 4,
     "metadata": {},
     "output_type": "execute_result"
    }
   ],
   "source": [
    "np.ones(10)"
   ]
  },
  {
   "cell_type": "code",
   "execution_count": 5,
   "id": "3247b91d-b10f-42c2-b04b-278948b4c334",
   "metadata": {},
   "outputs": [
    {
     "data": {
      "text/plain": [
       "array([2.5, 2.5, 2.5, 2.5, 2.5, 2.5, 2.5, 2.5, 2.5, 2.5])"
      ]
     },
     "execution_count": 5,
     "metadata": {},
     "output_type": "execute_result"
    }
   ],
   "source": [
    "np.full(10, 2.5)"
   ]
  },
  {
   "cell_type": "code",
   "execution_count": 9,
   "id": "b09879ce-1464-43eb-b12b-907f361690dc",
   "metadata": {},
   "outputs": [
    {
     "data": {
      "text/plain": [
       "array([1, 2, 3, 4, 7])"
      ]
     },
     "execution_count": 9,
     "metadata": {},
     "output_type": "execute_result"
    }
   ],
   "source": [
    "a = np.array([1, 2, 3, 4, 7])\n",
    "a"
   ]
  },
  {
   "cell_type": "code",
   "execution_count": 12,
   "id": "58cd0265-9ada-4973-846d-e9f866efc027",
   "metadata": {},
   "outputs": [],
   "source": [
    "a[4] = 12"
   ]
  },
  {
   "cell_type": "code",
   "execution_count": 13,
   "id": "e673076b-0ff2-47c0-8384-cc19b68d2044",
   "metadata": {},
   "outputs": [
    {
     "data": {
      "text/plain": [
       "array([ 1,  2,  3,  4, 12])"
      ]
     },
     "execution_count": 13,
     "metadata": {},
     "output_type": "execute_result"
    }
   ],
   "source": [
    "a"
   ]
  },
  {
   "cell_type": "code",
   "execution_count": 15,
   "id": "204d4724-0fb8-439a-98c1-fdb6fb4395d6",
   "metadata": {},
   "outputs": [
    {
     "data": {
      "text/plain": [
       "array([3, 4, 5, 6, 7, 8, 9])"
      ]
     },
     "execution_count": 15,
     "metadata": {},
     "output_type": "execute_result"
    }
   ],
   "source": [
    "np.arange(3,10)"
   ]
  },
  {
   "cell_type": "code",
   "execution_count": 18,
   "id": "d320bcec-633a-4909-9192-4b2c5685e4f2",
   "metadata": {},
   "outputs": [
    {
     "data": {
      "text/plain": [
       "array([ 0.,  1.,  2.,  3.,  4.,  5.,  6.,  7.,  8.,  9., 10.])"
      ]
     },
     "execution_count": 18,
     "metadata": {},
     "output_type": "execute_result"
    }
   ],
   "source": [
    "np.linspace(0, 10, 11)"
   ]
  },
  {
   "cell_type": "code",
   "execution_count": 19,
   "id": "4567ed18-66ba-4838-b8bc-8ed3a1bb7c24",
   "metadata": {},
   "outputs": [
    {
     "data": {
      "text/plain": [
       "array([[0., 0.],\n",
       "       [0., 0.],\n",
       "       [0., 0.],\n",
       "       [0., 0.],\n",
       "       [0., 0.]])"
      ]
     },
     "execution_count": 19,
     "metadata": {},
     "output_type": "execute_result"
    }
   ],
   "source": [
    "np.zeros((5, 2))"
   ]
  },
  {
   "cell_type": "code",
   "execution_count": 21,
   "id": "2eacd71b-6e42-409f-ae7f-b23159c13fe7",
   "metadata": {},
   "outputs": [],
   "source": [
    "n = np.array([\n",
    "    [1, 2, 3],\n",
    "    [4, 5, 6],\n",
    "    [7, 8, 9]])"
   ]
  },
  {
   "cell_type": "code",
   "execution_count": 33,
   "id": "2b2786aa-1456-4ee9-99f2-99e0118e62de",
   "metadata": {},
   "outputs": [],
   "source": [
    "n[2, 1] = 23"
   ]
  },
  {
   "cell_type": "code",
   "execution_count": 43,
   "id": "ace14b35-8f40-4fef-951c-cdc32ca6ed04",
   "metadata": {},
   "outputs": [
    {
     "data": {
      "text/plain": [
       "array([[4, 7, 3],\n",
       "       [4, 7, 3],\n",
       "       [4, 7, 3]])"
      ]
     },
     "execution_count": 43,
     "metadata": {},
     "output_type": "execute_result"
    }
   ],
   "source": [
    "n"
   ]
  },
  {
   "cell_type": "code",
   "execution_count": 44,
   "id": "b1b4cd0d-b22b-4938-b634-3e51260db7d0",
   "metadata": {},
   "outputs": [
    {
     "data": {
      "text/plain": [
       "array([[4, 7, 3],\n",
       "       [4, 7, 3],\n",
       "       [4, 7, 3]])"
      ]
     },
     "execution_count": 44,
     "metadata": {},
     "output_type": "execute_result"
    }
   ],
   "source": [
    "n[:]"
   ]
  },
  {
   "cell_type": "code",
   "execution_count": 50,
   "id": "b3263593-3709-4841-aa9f-a3278e4e59a8",
   "metadata": {},
   "outputs": [
    {
     "data": {
      "text/plain": [
       "array([[43.59949021,  2.59262318],\n",
       "       [54.96624779, 43.53223926],\n",
       "       [42.03678021, 33.0334821 ],\n",
       "       [20.4648634 , 61.92709664],\n",
       "       [29.96546737, 26.68272751]])"
      ]
     },
     "execution_count": 50,
     "metadata": {},
     "output_type": "execute_result"
    }
   ],
   "source": [
    "np.random.seed(2)\n",
    "100 * np.random.rand(5, 2)"
   ]
  },
  {
   "cell_type": "code",
   "execution_count": 49,
   "id": "d91ac3c6-317e-4822-9ced-2e32d5b3018e",
   "metadata": {},
   "outputs": [
    {
     "data": {
      "text/plain": [
       "array([[-0.41675785, -0.05626683],\n",
       "       [-2.1361961 ,  1.64027081],\n",
       "       [-1.79343559, -0.84174737],\n",
       "       [ 0.50288142, -1.24528809],\n",
       "       [-1.05795222, -0.90900761]])"
      ]
     },
     "execution_count": 49,
     "metadata": {},
     "output_type": "execute_result"
    }
   ],
   "source": [
    "np.random.seed(2)\n",
    "np.random.randn(5, 2)"
   ]
  },
  {
   "cell_type": "code",
   "execution_count": 53,
   "id": "c54f7be3-52cf-4e45-bef6-bf085f601f0a",
   "metadata": {},
   "outputs": [
    {
     "data": {
      "text/plain": [
       "array([[23, 28],\n",
       "       [23, 26],\n",
       "       [25, 26],\n",
       "       [23, 25],\n",
       "       [24, 26]])"
      ]
     },
     "execution_count": 53,
     "metadata": {},
     "output_type": "execute_result"
    }
   ],
   "source": [
    "np.random.seed(2)\n",
    "np.random.randint(low=23, high=29, size=(5, 2))"
   ]
  },
  {
   "cell_type": "code",
   "execution_count": null,
   "id": "13371d39-bd8b-47b1-a745-21d8d22a06e8",
   "metadata": {},
   "outputs": [],
   "source": []
  }
 ],
 "metadata": {
  "kernelspec": {
   "display_name": "Python 3 (ipykernel)",
   "language": "python",
   "name": "python3"
  },
  "language_info": {
   "codemirror_mode": {
    "name": "ipython",
    "version": 3
   },
   "file_extension": ".py",
   "mimetype": "text/x-python",
   "name": "python",
   "nbconvert_exporter": "python",
   "pygments_lexer": "ipython3",
   "version": "3.12.1"
  }
 },
 "nbformat": 4,
 "nbformat_minor": 5
}
