{
 "cells": [
  {
   "cell_type": "code",
   "execution_count": 1,
   "id": "8c02e50c-9c71-499d-bb38-2f3b47e38cee",
   "metadata": {},
   "outputs": [],
   "source": [
    "import numpy as np"
   ]
  },
  {
   "cell_type": "code",
   "execution_count": 2,
   "id": "0b1457e6-b205-400f-ad36-ffddbc7a1ffc",
   "metadata": {},
   "outputs": [],
   "source": [
    "u = np.array([2, 4, 5, 6])"
   ]
  },
  {
   "cell_type": "code",
   "execution_count": 3,
   "id": "5480c209-d811-4905-a6f6-21c0620fdbbb",
   "metadata": {},
   "outputs": [
    {
     "data": {
      "text/plain": [
       "array([2, 4, 5, 6])"
      ]
     },
     "execution_count": 3,
     "metadata": {},
     "output_type": "execute_result"
    }
   ],
   "source": [
    "u"
   ]
  },
  {
   "cell_type": "code",
   "execution_count": 4,
   "id": "06822d6e-c3eb-4ee9-a6db-8d640ee543b6",
   "metadata": {},
   "outputs": [
    {
     "data": {
      "text/plain": [
       "array([1, 0, 0, 2])"
      ]
     },
     "execution_count": 4,
     "metadata": {},
     "output_type": "execute_result"
    }
   ],
   "source": [
    "v = np.array([1, 0, 0, 2])\n",
    "v"
   ]
  },
  {
   "cell_type": "code",
   "execution_count": 5,
   "id": "05e3c9e5-2622-443c-a56a-2643288d0104",
   "metadata": {},
   "outputs": [
    {
     "data": {
      "text/plain": [
       "array([3, 4, 5, 8])"
      ]
     },
     "execution_count": 5,
     "metadata": {},
     "output_type": "execute_result"
    }
   ],
   "source": [
    "u + v"
   ]
  },
  {
   "cell_type": "code",
   "execution_count": 6,
   "id": "d1125d5e-47cc-4fb4-aac8-bfedce8847d6",
   "metadata": {},
   "outputs": [
    {
     "data": {
      "text/plain": [
       "array([ 2,  0,  0, 12])"
      ]
     },
     "execution_count": 6,
     "metadata": {},
     "output_type": "execute_result"
    }
   ],
   "source": [
    "u * v"
   ]
  },
  {
   "cell_type": "code",
   "execution_count": 10,
   "id": "200edebd-8fbd-4d11-9d13-3b39b0c60905",
   "metadata": {},
   "outputs": [
    {
     "data": {
      "text/plain": [
       "4"
      ]
     },
     "execution_count": 10,
     "metadata": {},
     "output_type": "execute_result"
    }
   ],
   "source": [
    "u.shape[0]"
   ]
  },
  {
   "cell_type": "code",
   "execution_count": 13,
   "id": "aef7a077-d8d0-48ca-9e9f-8e89ec18b831",
   "metadata": {},
   "outputs": [],
   "source": [
    "def vector_vector_mult(u, v):\n",
    "    assert u.shape[0] == v.shape[0]\n",
    "\n",
    "    n = u.shape[0]\n",
    "    result = 0.0\n",
    "\n",
    "    for i in range(n):\n",
    "        result = result + u[i] * v[i]\n",
    "\n",
    "    return float(result)"
   ]
  },
  {
   "cell_type": "code",
   "execution_count": 14,
   "id": "23af64c4-c3c9-46c7-a5db-d6e06250fe4e",
   "metadata": {},
   "outputs": [
    {
     "data": {
      "text/plain": [
       "14.0"
      ]
     },
     "execution_count": 14,
     "metadata": {},
     "output_type": "execute_result"
    }
   ],
   "source": [
    "vector_vector_mult(u, v)"
   ]
  },
  {
   "cell_type": "code",
   "execution_count": 17,
   "id": "f120023b-aebb-4557-87b8-4001ba331f66",
   "metadata": {},
   "outputs": [
    {
     "data": {
      "text/plain": [
       "np.int64(14)"
      ]
     },
     "execution_count": 17,
     "metadata": {},
     "output_type": "execute_result"
    }
   ],
   "source": [
    "u.dot(v)"
   ]
  },
  {
   "cell_type": "code",
   "execution_count": 18,
   "id": "98d7fa55-7b5f-4e40-a24f-33f22d6fd7c4",
   "metadata": {},
   "outputs": [
    {
     "data": {
      "text/plain": [
       "array([[2, 4, 5, 6],\n",
       "       [1, 2, 1, 2],\n",
       "       [3, 1, 2, 1]])"
      ]
     },
     "execution_count": 18,
     "metadata": {},
     "output_type": "execute_result"
    }
   ],
   "source": [
    "U = np.array([\n",
    "    [2, 4, 5, 6],\n",
    "    [1, 2, 1, 2],\n",
    "    [3, 1, 2, 1]\n",
    "])\n",
    "U"
   ]
  },
  {
   "cell_type": "code",
   "execution_count": 24,
   "id": "2c165f2c-e8d0-43b4-bc87-5e2fb5e0f472",
   "metadata": {},
   "outputs": [],
   "source": [
    "v = np.array([1, 0.5, 2, 1])"
   ]
  },
  {
   "cell_type": "code",
   "execution_count": 39,
   "id": "66bece97-b4d7-4dad-915a-0cc2ce4c439b",
   "metadata": {},
   "outputs": [
    {
     "data": {
      "text/plain": [
       "array([2, 4, 5, 6])"
      ]
     },
     "execution_count": 39,
     "metadata": {},
     "output_type": "execute_result"
    }
   ],
   "source": [
    "U[0]"
   ]
  },
  {
   "cell_type": "code",
   "execution_count": 30,
   "id": "053401b2-6037-4e5b-aa9a-77527bdfaf53",
   "metadata": {},
   "outputs": [
    {
     "data": {
      "text/plain": [
       "np.int64(6)"
      ]
     },
     "execution_count": 30,
     "metadata": {},
     "output_type": "execute_result"
    }
   ],
   "source": [
    "U[0, 3]"
   ]
  },
  {
   "cell_type": "code",
   "execution_count": 26,
   "id": "4fbd055f-4cf8-4a03-8e0f-e2158912aaec",
   "metadata": {},
   "outputs": [
    {
     "data": {
      "text/plain": [
       "4"
      ]
     },
     "execution_count": 26,
     "metadata": {},
     "output_type": "execute_result"
    }
   ],
   "source": [
    "v.shape[0]"
   ]
  },
  {
   "cell_type": "code",
   "execution_count": 40,
   "id": "276c5816-cc3d-4e2d-b584-da51157ee2a6",
   "metadata": {},
   "outputs": [],
   "source": [
    "def mat_vec_mult(U, v):\n",
    "    assert U.shape[1] == v.shape[0]\n",
    "\n",
    "    rows = U.shape[0]\n",
    "    result = np.zeros(rows)\n",
    "\n",
    "    for i in range(rows):\n",
    "        result[i] = vector_vector_mult(U[i], v)\n",
    "\n",
    "    return result"
   ]
  },
  {
   "cell_type": "code",
   "execution_count": 41,
   "id": "668fc293-a9a7-45dd-ba19-9ee7c7adbe0a",
   "metadata": {},
   "outputs": [
    {
     "data": {
      "text/plain": [
       "array([20. ,  6. ,  8.5])"
      ]
     },
     "execution_count": 41,
     "metadata": {},
     "output_type": "execute_result"
    }
   ],
   "source": [
    "mat_vec_mult(U, v)"
   ]
  },
  {
   "cell_type": "code",
   "execution_count": 42,
   "id": "2e4cc204-75df-4f56-8c5a-f0e6953bcec1",
   "metadata": {},
   "outputs": [
    {
     "data": {
      "text/plain": [
       "array([20. ,  6. ,  8.5])"
      ]
     },
     "execution_count": 42,
     "metadata": {},
     "output_type": "execute_result"
    }
   ],
   "source": [
    "U.dot(v)"
   ]
  },
  {
   "cell_type": "code",
   "execution_count": null,
   "id": "82038ed2-ed6f-4107-9bcf-c154d562baf2",
   "metadata": {},
   "outputs": [],
   "source": []
  }
 ],
 "metadata": {
  "kernelspec": {
   "display_name": "Python 3 (ipykernel)",
   "language": "python",
   "name": "python3"
  },
  "language_info": {
   "codemirror_mode": {
    "name": "ipython",
    "version": 3
   },
   "file_extension": ".py",
   "mimetype": "text/x-python",
   "name": "python",
   "nbconvert_exporter": "python",
   "pygments_lexer": "ipython3",
   "version": "3.12.1"
  }
 },
 "nbformat": 4,
 "nbformat_minor": 5
}
