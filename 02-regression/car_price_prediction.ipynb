{
 "cells": [
  {
   "cell_type": "markdown",
   "id": "142b435e-a82f-49d5-8170-23d93b2b5e61",
   "metadata": {},
   "source": [
    "# 2.2 Data prep"
   ]
  },
  {
   "cell_type": "code",
   "execution_count": 17,
   "id": "4332f3b4-04b8-4877-a9e3-58d17c692115",
   "metadata": {},
   "outputs": [],
   "source": [
    "import numpy as np\n",
    "import pandas as pd"
   ]
  },
  {
   "cell_type": "code",
   "execution_count": 6,
   "id": "b299af59-cc8a-42e4-85a4-ff131b700cb3",
   "metadata": {},
   "outputs": [],
   "source": [
    "data = 'https://raw.githubusercontent.com/alexeygrigorev/mlbookcamp-code/refs/heads/master/chapter-02-car-price/data.csv'"
   ]
  },
  {
   "cell_type": "code",
   "execution_count": 7,
   "id": "4f065b93-17e2-49f8-8283-ebe0cbb7ecb7",
   "metadata": {
    "scrolled": true
   },
   "outputs": [
    {
     "name": "stdout",
     "output_type": "stream",
     "text": [
      "--2025-08-20 15:12:36--  https://raw.githubusercontent.com/alexeygrigorev/mlbookcamp-code/refs/heads/master/chapter-02-car-price/data.csv\n",
      "Resolving raw.githubusercontent.com (raw.githubusercontent.com)... 185.199.108.133, 185.199.109.133, 185.199.110.133, ...\n",
      "Connecting to raw.githubusercontent.com (raw.githubusercontent.com)|185.199.108.133|:443... connected.\n",
      "HTTP request sent, awaiting response... 200 OK\n",
      "Length: 1475504 (1.4M) [text/plain]\n",
      "Saving to: ‘data.csv’\n",
      "\n",
      "data.csv            100%[===================>]   1.41M  --.-KB/s    in 0.05s   \n",
      "\n",
      "2025-08-20 15:12:37 (30.3 MB/s) - ‘data.csv’ saved [1475504/1475504]\n",
      "\n"
     ]
    }
   ],
   "source": [
    "!wget $data"
   ]
  },
  {
   "cell_type": "code",
   "execution_count": 2,
   "id": "1cf0f9b4-fa1d-4427-9862-a4d7638901ef",
   "metadata": {},
   "outputs": [
    {
     "ename": "NameError",
     "evalue": "name 'pd' is not defined",
     "output_type": "error",
     "traceback": [
      "\u001b[31m---------------------------------------------------------------------------\u001b[39m",
      "\u001b[31mNameError\u001b[39m                                 Traceback (most recent call last)",
      "\u001b[36mCell\u001b[39m\u001b[36m \u001b[39m\u001b[32mIn[2]\u001b[39m\u001b[32m, line 1\u001b[39m\n\u001b[32m----> \u001b[39m\u001b[32m1\u001b[39m df = \u001b[43mpd\u001b[49m.read_csv(\u001b[33m'\u001b[39m\u001b[33mdata.csv\u001b[39m\u001b[33m'\u001b[39m)\n",
      "\u001b[31mNameError\u001b[39m: name 'pd' is not defined"
     ]
    }
   ],
   "source": [
    "df = pd.read_csv('data.csv')"
   ]
  },
  {
   "cell_type": "markdown",
   "id": "61b2eff7-4051-4015-ba27-d81f6b5c8db5",
   "metadata": {},
   "source": [
    "Pasar nombres de columnas todo a minusculas y remplazar espacios con _"
   ]
  },
  {
   "cell_type": "code",
   "execution_count": null,
   "id": "18d42437-a160-4143-a06e-58f27e19a24a",
   "metadata": {},
   "outputs": [],
   "source": [
    "df.columns = df.columns.str.lower().str.replace(' ', '_')"
   ]
  },
  {
   "cell_type": "markdown",
   "id": "f9a9e9d8-a3e6-4b06-8599-859a3aa54167",
   "metadata": {},
   "source": [
    "Pasar valores a minusculas y remplazar espacios con _"
   ]
  },
  {
   "cell_type": "code",
   "execution_count": null,
   "id": "2aa2e41e-c159-4f81-80b1-e97b82067a6f",
   "metadata": {},
   "outputs": [],
   "source": [
    "strings = list(df.dtypes[df.dtypes == 'object'].index)\n",
    "strings"
   ]
  },
  {
   "cell_type": "code",
   "execution_count": null,
   "id": "d3186398-735d-4dfc-bed8-aa97c9215e30",
   "metadata": {},
   "outputs": [],
   "source": [
    "for col in strings:\n",
    "    df[col] = df[col].str.lower().str.replace(' ', '_')"
   ]
  },
  {
   "cell_type": "code",
   "execution_count": null,
   "id": "a57ce237-f3cf-4219-926b-898adfc9565e",
   "metadata": {},
   "outputs": [],
   "source": [
    "df.head()"
   ]
  },
  {
   "cell_type": "code",
   "execution_count": null,
   "id": "db28327e-43bc-4517-849c-4750c31bf163",
   "metadata": {},
   "outputs": [],
   "source": [
    "df.dtypes"
   ]
  },
  {
   "cell_type": "markdown",
   "id": "1fd85d01-dc04-4e58-a846-69b7eaf8bbdb",
   "metadata": {},
   "source": [
    "# 2.3 Exploratory data analysis"
   ]
  },
  {
   "cell_type": "code",
   "execution_count": null,
   "id": "0c145eb6-95b7-421b-b21b-2cc3e2f5306e",
   "metadata": {},
   "outputs": [],
   "source": [
    "for col in df.columns:\n",
    "    print(col)\n",
    "    print(df[col].unique()[:5])\n",
    "    print(df[col].nunique())\n",
    "    print()"
   ]
  },
  {
   "cell_type": "markdown",
   "id": "4a55a49a-27a3-4fb7-ad61-d9d9230155fb",
   "metadata": {},
   "source": [
    "Distribution of price"
   ]
  },
  {
   "cell_type": "code",
   "execution_count": null,
   "id": "16604764-ec67-46fb-859b-59710137257e",
   "metadata": {},
   "outputs": [],
   "source": [
    "import matplotlib.pyplot as plt\n",
    "import seaborn as sns\n",
    "\n",
    "%matplotlib inline"
   ]
  },
  {
   "cell_type": "markdown",
   "id": "a8d773f1-2ef1-41a1-9cc1-d1e16e203489",
   "metadata": {},
   "source": [
    "Explorando la distribucion del precio... Al hacer el gr'afico con todos los datos, vimos que hay una cola muy larga, hay coches con precios de hasta 2 millones. Por eso, recortamos esa cola y hacemos el grafico solo con datos donde el precio es menor a 100K"
   ]
  },
  {
   "cell_type": "code",
   "execution_count": null,
   "id": "32a8cf5a-d65b-490b-9d78-ddb56beb6ff8",
   "metadata": {},
   "outputs": [],
   "source": [
    "sns.histplot(df.msrp[df.msrp < 100000], bins=50)"
   ]
  },
  {
   "cell_type": "markdown",
   "id": "9607a0af-2eed-4948-a650-12061cf01268",
   "metadata": {},
   "source": [
    "Vemos que sigue habiendo una cola larga (the data skews to the right), para hacer el rango de datos mas compacto y simetrico (bell curve), apicamos logaritmo a todos los valores..."
   ]
  },
  {
   "cell_type": "code",
   "execution_count": null,
   "id": "f8b7d75f-cd54-4a1a-87ab-37f95fad9c90",
   "metadata": {},
   "outputs": [],
   "source": [
    "price_logs = np.log1p(df.msrp)"
   ]
  },
  {
   "cell_type": "code",
   "execution_count": null,
   "id": "282edc64-d86d-4f60-a269-1c630c1589a4",
   "metadata": {},
   "outputs": [],
   "source": [
    "sns.histplot(price_logs, bins=50)"
   ]
  },
  {
   "cell_type": "markdown",
   "id": "f1728c6a-1d7a-4deb-b04a-4e993a123353",
   "metadata": {},
   "source": [
    "Al graficar los valores con el logaritmo aplicado, vemos que el rango es mas compacto y la grafica es mas simetrica."
   ]
  },
  {
   "cell_type": "markdown",
   "id": "f8440ffd-878f-4d2c-8890-de695386ec02",
   "metadata": {},
   "source": [
    "Missing values"
   ]
  },
  {
   "cell_type": "markdown",
   "id": "79045fa4-4cab-49c1-9d93-daf120ccf5a7",
   "metadata": {},
   "source": [
    "checamos cuantos null existen por cada columna"
   ]
  },
  {
   "cell_type": "code",
   "execution_count": null,
   "id": "9d762278-52b2-44d7-8de7-c79388dee967",
   "metadata": {},
   "outputs": [],
   "source": [
    "df.isnull().sum()"
   ]
  },
  {
   "cell_type": "markdown",
   "id": "61475fb3-a3da-40fd-998f-e08f15fdd510",
   "metadata": {},
   "source": [
    "# 2.4 Setting up the validation framework"
   ]
  },
  {
   "cell_type": "markdown",
   "id": "7090db06-efd6-4873-a0b5-a17b523d122c",
   "metadata": {},
   "source": [
    "Definir las dimensiones de cada dataset\n",
    "\n",
    "Train = 60%\n",
    "Validate = 20%\n",
    "Test = 20%"
   ]
  },
  {
   "cell_type": "code",
   "execution_count": null,
   "id": "9fd3125b-1232-4772-b50d-cf08f04ed424",
   "metadata": {},
   "outputs": [],
   "source": [
    "n = len(df)\n",
    "\n",
    "n_val = int(n * 0.2)\n",
    "n_test = int(n * 0.2)\n",
    "n_train = n - n_val - n_test"
   ]
  },
  {
   "cell_type": "code",
   "execution_count": null,
   "id": "8d493825-4e9f-4df4-9902-24ec2873b9d7",
   "metadata": {},
   "outputs": [],
   "source": [
    "n_val, n_test, n_train"
   ]
  },
  {
   "cell_type": "markdown",
   "id": "f39599aa-bf6a-4b80-af7e-25b69afd07cd",
   "metadata": {},
   "source": [
    "Para que los sub-datasets no traigan los registros en secuencia desde el dataset original, hay que generar un array de tamanio n, con numeros de 0 a n-1 randomizados"
   ]
  },
  {
   "cell_type": "code",
   "execution_count": null,
   "id": "388067c5-c987-4fa0-895f-631f4def39ee",
   "metadata": {},
   "outputs": [],
   "source": [
    "idx = np.arange(n)"
   ]
  },
  {
   "cell_type": "code",
   "execution_count": null,
   "id": "f576be3a-f5d4-4688-8328-47790a901a2f",
   "metadata": {},
   "outputs": [],
   "source": [
    "np.random.seed(2)\n",
    "np.random.shuffle(idx)"
   ]
  },
  {
   "cell_type": "markdown",
   "id": "01ecaa8c-5821-4849-8910-4f591636aa47",
   "metadata": {},
   "source": [
    "Traer del dataset original, un conjunto definido por los indexes randomizados (idx[:n_train])"
   ]
  },
  {
   "cell_type": "code",
   "execution_count": null,
   "id": "07feed18-a2b7-44e9-bfea-b626473ec14f",
   "metadata": {},
   "outputs": [],
   "source": [
    "df_train = df.iloc[idx[:n_train]]\n",
    "df_val = df.iloc[idx[n_train:n_train+n_val]]\n",
    "df_test = df.iloc[idx[n_train+n_val:]]"
   ]
  },
  {
   "cell_type": "markdown",
   "id": "ddf5ecb6-ee1f-45ca-a7ac-b439f67d5d78",
   "metadata": {},
   "source": [
    "Los indexes de los nuevos datasets, seran los indexes traidos del dataset original, eso no nos sirve, vamos a eliminar esos y ponerlos de 0 al numero definido por el tamanio"
   ]
  },
  {
   "cell_type": "code",
   "execution_count": null,
   "id": "9b678045-ff11-4087-b95b-b1d65c0247d0",
   "metadata": {},
   "outputs": [],
   "source": [
    "df_train = df_train.reset_index(drop=True)\n",
    "df_val = df_val.reset_index(drop=True)\n",
    "df_test = df_test.reset_index(drop=True)"
   ]
  },
  {
   "cell_type": "markdown",
   "id": "83529b39-d8de-404f-b9e5-c249c16a9f2e",
   "metadata": {},
   "source": [
    "Como mencionamos arriba, hay que aplicar el logaritmo al precio para compactar el rango de datos y hacerlos simetricos. Tambien, guardamos el precio en su propio array"
   ]
  },
  {
   "cell_type": "code",
   "execution_count": null,
   "id": "6a6331f3-ae42-4f77-a056-106a89d2b23a",
   "metadata": {},
   "outputs": [],
   "source": [
    "y_train = np.log1p(df_train.msrp.values)\n",
    "y_val = np.log1p(df_val.msrp.values)\n",
    "y_test = np.log1p(df_test.msrp.values)"
   ]
  },
  {
   "cell_type": "markdown",
   "id": "cb0734dc-2e9f-4a65-b12a-6c5904daee28",
   "metadata": {},
   "source": [
    "Eliminamos el precio del dataset de los features"
   ]
  },
  {
   "cell_type": "code",
   "execution_count": null,
   "id": "abdb231a-15ee-4076-8fe4-bc77908cd323",
   "metadata": {},
   "outputs": [],
   "source": [
    "del df_train['msrp']\n",
    "del df_val['msrp']\n",
    "del df_test['msrp']"
   ]
  },
  {
   "cell_type": "code",
   "execution_count": null,
   "id": "92e8168d-61b9-43ee-b4d4-f7847719a86b",
   "metadata": {},
   "outputs": [],
   "source": [
    "len(y_train)"
   ]
  },
  {
   "cell_type": "markdown",
   "id": "33b9ace1-882d-4382-a390-0e897672d6f7",
   "metadata": {},
   "source": [
    "# 2.5 Linear regression"
   ]
  },
  {
   "cell_type": "markdown",
   "id": "35b9d033-9512-4e3c-80f3-94226a475b95",
   "metadata": {},
   "source": [
    "Un repaso rapido de como funciona la regresion lineal:"
   ]
  },
  {
   "cell_type": "code",
   "execution_count": 3,
   "id": "48b56cf4-a8e3-4b27-8d69-b887494e2661",
   "metadata": {},
   "outputs": [],
   "source": [
    "xi = [453, 11, 86]"
   ]
  },
  {
   "cell_type": "code",
   "execution_count": 10,
   "id": "e7f760d8-52de-4a8d-88a6-31aee737d2e5",
   "metadata": {},
   "outputs": [],
   "source": [
    "w0 = 7.17\n",
    "w = [1, 1, 1]"
   ]
  },
  {
   "cell_type": "code",
   "execution_count": 5,
   "id": "eae413d3-0d7c-4dad-9f04-0d9bf7985f00",
   "metadata": {},
   "outputs": [],
   "source": [
    "def linear_regression(xi):\n",
    "    n = len(xi)\n",
    "\n",
    "    pred = w0\n",
    "\n",
    "    for j in range(n):\n",
    "        pred = pred + w[j] * xi[j]\n",
    "\n",
    "    return pred"
   ]
  },
  {
   "cell_type": "code",
   "execution_count": 6,
   "id": "cdf91a0f-fd52-4656-81b5-332f5b0bbc89",
   "metadata": {},
   "outputs": [
    {
     "data": {
      "text/plain": [
       "550"
      ]
     },
     "execution_count": 6,
     "metadata": {},
     "output_type": "execute_result"
    }
   ],
   "source": [
    "linear_regression(xi)"
   ]
  },
  {
   "cell_type": "code",
   "execution_count": 7,
   "id": "f8764c59-05e9-4dd2-8285-670465133c5a",
   "metadata": {},
   "outputs": [
    {
     "data": {
      "text/plain": [
       "0"
      ]
     },
     "execution_count": 7,
     "metadata": {},
     "output_type": "execute_result"
    }
   ],
   "source": [
    "w0"
   ]
  },
  {
   "cell_type": "markdown",
   "id": "d56f2ff1-cbec-4997-913b-031c4f8213e9",
   "metadata": {},
   "source": [
    "# 2.6 Linear regression vector form"
   ]
  },
  {
   "cell_type": "markdown",
   "id": "9adaea69-4a76-414b-b213-c41bb906b344",
   "metadata": {},
   "source": [
    "Primero definimos el dot product de los valores a la derecha del w0 en la formula de la linear reg"
   ]
  },
  {
   "cell_type": "code",
   "execution_count": 8,
   "id": "7dd06d41-61da-4b99-98e3-b028584a25f1",
   "metadata": {},
   "outputs": [],
   "source": [
    "def dot(xi, w):\n",
    "    n = len(xi)\n",
    "\n",
    "    res = 0.0\n",
    "\n",
    "    for j in range(n):\n",
    "        res = res + xi[j] * w[j]\n",
    "\n",
    "    return res"
   ]
  },
  {
   "cell_type": "markdown",
   "id": "7b0971f7-5487-4ea6-b2ba-a012af90769c",
   "metadata": {},
   "source": [
    "Despues, en la funcion de linear reg, sumamos w0 al dot product anterior"
   ]
  },
  {
   "cell_type": "code",
   "execution_count": 9,
   "id": "46dd93ee-1fad-40ec-a6f6-a80013bfdb14",
   "metadata": {},
   "outputs": [],
   "source": [
    "def linear_regression(xi):\n",
    "    return w0 + dot(xi, w)"
   ]
  },
  {
   "cell_type": "markdown",
   "id": "414fade6-42b5-45c2-8a33-6729110ca380",
   "metadata": {},
   "source": [
    "Va otro ejemplo, pero ahora, vamos a incluir el w0 en el dot product. Al final, para incluir el w0 en el dot product, solamente lo agregamos como otro weight y multiplicandolo por 1, para que quede igual. Entonces la formula de lnear reg, en vez de ser w0 mas el dot product, la podemos simplificar, incluyendo el w0 como parte del dot product. Es decir, el w0 es parte del vector w, en vez de estar afuera."
   ]
  },
  {
   "cell_type": "code",
   "execution_count": 15,
   "id": "a60794e9-c179-4d6f-9e33-aa3e4424b9d1",
   "metadata": {},
   "outputs": [],
   "source": [
    "w0 = 7.17\n",
    "w = [0.01, 0.04, 0.002]\n",
    "w_new = [w0] + w"
   ]
  },
  {
   "cell_type": "markdown",
   "id": "ba4011e2-ad4c-44f7-8b92-5841fdb1fe8a",
   "metadata": {},
   "source": [
    " Creamos un dataset de ejemplo, notar que siempre hay un 1 al inicio, esto es, como dice arriba, para multiplicarlo por el w0 y quede igual.\n",
    "\n",
    " Despues, creamos la lista X y la convertimos en un array de listas."
   ]
  },
  {
   "cell_type": "code",
   "execution_count": 18,
   "id": "61735520-bcc0-4e0c-8309-dc337e227bfe",
   "metadata": {},
   "outputs": [
    {
     "data": {
      "text/plain": [
       "array([[   1,  148,   24, 1385],\n",
       "       [   1,  132,   25, 2031],\n",
       "       [   1,  453,   11,   86]])"
      ]
     },
     "execution_count": 18,
     "metadata": {},
     "output_type": "execute_result"
    }
   ],
   "source": [
    "x1 = [1, 148, 24, 1385]\n",
    "x2 = [1, 132, 25, 2031]\n",
    "x10 = [1, 453, 11, 86]\n",
    "\n",
    "X = [x1, x2, x10]\n",
    "X = np.array(X)\n",
    "X"
   ]
  },
  {
   "cell_type": "markdown",
   "id": "b39af984-aedc-4d12-a40c-293d9fb03695",
   "metadata": {},
   "source": [
    "Entonces, podemos llevar a cabo el calculo de la linear reg, solamente con la funcion dot(), ya que el w0 es parte del vector w y el 1, parte del vector x."
   ]
  },
  {
   "cell_type": "code",
   "execution_count": 19,
   "id": "67f9277c-a891-4982-9f6c-602ab2e6957d",
   "metadata": {},
   "outputs": [],
   "source": [
    "def linear_regression(X):\n",
    "    return X.dot(w_new)"
   ]
  },
  {
   "cell_type": "code",
   "execution_count": 20,
   "id": "08973cee-ca4d-48d0-bbb8-991d2aae6f91",
   "metadata": {},
   "outputs": [
    {
     "data": {
      "text/plain": [
       "array([12.38 , 13.552, 12.312])"
      ]
     },
     "execution_count": 20,
     "metadata": {},
     "output_type": "execute_result"
    }
   ],
   "source": [
    "linear_regression(X)"
   ]
  },
  {
   "cell_type": "code",
   "execution_count": null,
   "id": "cc200827-557b-4d54-9ff8-197228a6c5ce",
   "metadata": {},
   "outputs": [],
   "source": []
  }
 ],
 "metadata": {
  "kernelspec": {
   "display_name": "Python 3 (ipykernel)",
   "language": "python",
   "name": "python3"
  },
  "language_info": {
   "codemirror_mode": {
    "name": "ipython",
    "version": 3
   },
   "file_extension": ".py",
   "mimetype": "text/x-python",
   "name": "python",
   "nbconvert_exporter": "python",
   "pygments_lexer": "ipython3",
   "version": "3.12.1"
  }
 },
 "nbformat": 4,
 "nbformat_minor": 5
}
