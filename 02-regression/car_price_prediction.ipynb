{
 "cells": [
  {
   "cell_type": "markdown",
   "id": "142b435e-a82f-49d5-8170-23d93b2b5e61",
   "metadata": {},
   "source": [
    "# 2.2 Data prep"
   ]
  },
  {
   "cell_type": "code",
   "execution_count": 6,
   "id": "b299af59-cc8a-42e4-85a4-ff131b700cb3",
   "metadata": {},
   "outputs": [],
   "source": [
    "data = 'https://raw.githubusercontent.com/alexeygrigorev/mlbookcamp-code/refs/heads/master/chapter-02-car-price/data.csv'"
   ]
  },
  {
   "cell_type": "code",
   "execution_count": 7,
   "id": "4f065b93-17e2-49f8-8283-ebe0cbb7ecb7",
   "metadata": {
    "scrolled": true
   },
   "outputs": [
    {
     "name": "stdout",
     "output_type": "stream",
     "text": [
      "--2025-08-20 15:12:36--  https://raw.githubusercontent.com/alexeygrigorev/mlbookcamp-code/refs/heads/master/chapter-02-car-price/data.csv\n",
      "Resolving raw.githubusercontent.com (raw.githubusercontent.com)... 185.199.108.133, 185.199.109.133, 185.199.110.133, ...\n",
      "Connecting to raw.githubusercontent.com (raw.githubusercontent.com)|185.199.108.133|:443... connected.\n",
      "HTTP request sent, awaiting response... 200 OK\n",
      "Length: 1475504 (1.4M) [text/plain]\n",
      "Saving to: ‘data.csv’\n",
      "\n",
      "data.csv            100%[===================>]   1.41M  --.-KB/s    in 0.05s   \n",
      "\n",
      "2025-08-20 15:12:37 (30.3 MB/s) - ‘data.csv’ saved [1475504/1475504]\n",
      "\n"
     ]
    }
   ],
   "source": [
    "!wget $data"
   ]
  },
  {
   "cell_type": "code",
   "execution_count": 1,
   "id": "4332f3b4-04b8-4877-a9e3-58d17c692115",
   "metadata": {},
   "outputs": [],
   "source": [
    "import numpy as np\n",
    "import pandas as pd"
   ]
  },
  {
   "cell_type": "code",
   "execution_count": 2,
   "id": "1cf0f9b4-fa1d-4427-9862-a4d7638901ef",
   "metadata": {},
   "outputs": [],
   "source": [
    "df = pd.read_csv('data.csv')"
   ]
  },
  {
   "cell_type": "markdown",
   "id": "61b2eff7-4051-4015-ba27-d81f6b5c8db5",
   "metadata": {},
   "source": [
    "Pasar nombres de columnas todo a minusculas y remplazar espacios con _"
   ]
  },
  {
   "cell_type": "code",
   "execution_count": 3,
   "id": "18d42437-a160-4143-a06e-58f27e19a24a",
   "metadata": {},
   "outputs": [],
   "source": [
    "df.columns = df.columns.str.lower().str.replace(' ', '_')"
   ]
  },
  {
   "cell_type": "markdown",
   "id": "f9a9e9d8-a3e6-4b06-8599-859a3aa54167",
   "metadata": {},
   "source": [
    "Pasar valores a minusculas y remplazar espacios con _"
   ]
  },
  {
   "cell_type": "code",
   "execution_count": 4,
   "id": "2aa2e41e-c159-4f81-80b1-e97b82067a6f",
   "metadata": {},
   "outputs": [
    {
     "data": {
      "text/plain": [
       "['make',\n",
       " 'model',\n",
       " 'engine_fuel_type',\n",
       " 'transmission_type',\n",
       " 'driven_wheels',\n",
       " 'market_category',\n",
       " 'vehicle_size',\n",
       " 'vehicle_style']"
      ]
     },
     "execution_count": 4,
     "metadata": {},
     "output_type": "execute_result"
    }
   ],
   "source": [
    "strings = list(df.dtypes[df.dtypes == 'object'].index)\n",
    "strings"
   ]
  },
  {
   "cell_type": "code",
   "execution_count": 5,
   "id": "d3186398-735d-4dfc-bed8-aa97c9215e30",
   "metadata": {},
   "outputs": [],
   "source": [
    "for col in strings:\n",
    "    df[col] = df[col].str.lower().str.replace(' ', '_')"
   ]
  },
  {
   "cell_type": "code",
   "execution_count": 6,
   "id": "a57ce237-f3cf-4219-926b-898adfc9565e",
   "metadata": {},
   "outputs": [
    {
     "data": {
      "text/html": [
       "<div>\n",
       "<style scoped>\n",
       "    .dataframe tbody tr th:only-of-type {\n",
       "        vertical-align: middle;\n",
       "    }\n",
       "\n",
       "    .dataframe tbody tr th {\n",
       "        vertical-align: top;\n",
       "    }\n",
       "\n",
       "    .dataframe thead th {\n",
       "        text-align: right;\n",
       "    }\n",
       "</style>\n",
       "<table border=\"1\" class=\"dataframe\">\n",
       "  <thead>\n",
       "    <tr style=\"text-align: right;\">\n",
       "      <th></th>\n",
       "      <th>make</th>\n",
       "      <th>model</th>\n",
       "      <th>year</th>\n",
       "      <th>engine_fuel_type</th>\n",
       "      <th>engine_hp</th>\n",
       "      <th>engine_cylinders</th>\n",
       "      <th>transmission_type</th>\n",
       "      <th>driven_wheels</th>\n",
       "      <th>number_of_doors</th>\n",
       "      <th>market_category</th>\n",
       "      <th>vehicle_size</th>\n",
       "      <th>vehicle_style</th>\n",
       "      <th>highway_mpg</th>\n",
       "      <th>city_mpg</th>\n",
       "      <th>popularity</th>\n",
       "      <th>msrp</th>\n",
       "    </tr>\n",
       "  </thead>\n",
       "  <tbody>\n",
       "    <tr>\n",
       "      <th>0</th>\n",
       "      <td>bmw</td>\n",
       "      <td>1_series_m</td>\n",
       "      <td>2011</td>\n",
       "      <td>premium_unleaded_(required)</td>\n",
       "      <td>335.0</td>\n",
       "      <td>6.0</td>\n",
       "      <td>manual</td>\n",
       "      <td>rear_wheel_drive</td>\n",
       "      <td>2.0</td>\n",
       "      <td>factory_tuner,luxury,high-performance</td>\n",
       "      <td>compact</td>\n",
       "      <td>coupe</td>\n",
       "      <td>26</td>\n",
       "      <td>19</td>\n",
       "      <td>3916</td>\n",
       "      <td>46135</td>\n",
       "    </tr>\n",
       "    <tr>\n",
       "      <th>1</th>\n",
       "      <td>bmw</td>\n",
       "      <td>1_series</td>\n",
       "      <td>2011</td>\n",
       "      <td>premium_unleaded_(required)</td>\n",
       "      <td>300.0</td>\n",
       "      <td>6.0</td>\n",
       "      <td>manual</td>\n",
       "      <td>rear_wheel_drive</td>\n",
       "      <td>2.0</td>\n",
       "      <td>luxury,performance</td>\n",
       "      <td>compact</td>\n",
       "      <td>convertible</td>\n",
       "      <td>28</td>\n",
       "      <td>19</td>\n",
       "      <td>3916</td>\n",
       "      <td>40650</td>\n",
       "    </tr>\n",
       "    <tr>\n",
       "      <th>2</th>\n",
       "      <td>bmw</td>\n",
       "      <td>1_series</td>\n",
       "      <td>2011</td>\n",
       "      <td>premium_unleaded_(required)</td>\n",
       "      <td>300.0</td>\n",
       "      <td>6.0</td>\n",
       "      <td>manual</td>\n",
       "      <td>rear_wheel_drive</td>\n",
       "      <td>2.0</td>\n",
       "      <td>luxury,high-performance</td>\n",
       "      <td>compact</td>\n",
       "      <td>coupe</td>\n",
       "      <td>28</td>\n",
       "      <td>20</td>\n",
       "      <td>3916</td>\n",
       "      <td>36350</td>\n",
       "    </tr>\n",
       "    <tr>\n",
       "      <th>3</th>\n",
       "      <td>bmw</td>\n",
       "      <td>1_series</td>\n",
       "      <td>2011</td>\n",
       "      <td>premium_unleaded_(required)</td>\n",
       "      <td>230.0</td>\n",
       "      <td>6.0</td>\n",
       "      <td>manual</td>\n",
       "      <td>rear_wheel_drive</td>\n",
       "      <td>2.0</td>\n",
       "      <td>luxury,performance</td>\n",
       "      <td>compact</td>\n",
       "      <td>coupe</td>\n",
       "      <td>28</td>\n",
       "      <td>18</td>\n",
       "      <td>3916</td>\n",
       "      <td>29450</td>\n",
       "    </tr>\n",
       "    <tr>\n",
       "      <th>4</th>\n",
       "      <td>bmw</td>\n",
       "      <td>1_series</td>\n",
       "      <td>2011</td>\n",
       "      <td>premium_unleaded_(required)</td>\n",
       "      <td>230.0</td>\n",
       "      <td>6.0</td>\n",
       "      <td>manual</td>\n",
       "      <td>rear_wheel_drive</td>\n",
       "      <td>2.0</td>\n",
       "      <td>luxury</td>\n",
       "      <td>compact</td>\n",
       "      <td>convertible</td>\n",
       "      <td>28</td>\n",
       "      <td>18</td>\n",
       "      <td>3916</td>\n",
       "      <td>34500</td>\n",
       "    </tr>\n",
       "  </tbody>\n",
       "</table>\n",
       "</div>"
      ],
      "text/plain": [
       "  make       model  year             engine_fuel_type  engine_hp  \\\n",
       "0  bmw  1_series_m  2011  premium_unleaded_(required)      335.0   \n",
       "1  bmw    1_series  2011  premium_unleaded_(required)      300.0   \n",
       "2  bmw    1_series  2011  premium_unleaded_(required)      300.0   \n",
       "3  bmw    1_series  2011  premium_unleaded_(required)      230.0   \n",
       "4  bmw    1_series  2011  premium_unleaded_(required)      230.0   \n",
       "\n",
       "   engine_cylinders transmission_type     driven_wheels  number_of_doors  \\\n",
       "0               6.0            manual  rear_wheel_drive              2.0   \n",
       "1               6.0            manual  rear_wheel_drive              2.0   \n",
       "2               6.0            manual  rear_wheel_drive              2.0   \n",
       "3               6.0            manual  rear_wheel_drive              2.0   \n",
       "4               6.0            manual  rear_wheel_drive              2.0   \n",
       "\n",
       "                         market_category vehicle_size vehicle_style  \\\n",
       "0  factory_tuner,luxury,high-performance      compact         coupe   \n",
       "1                     luxury,performance      compact   convertible   \n",
       "2                luxury,high-performance      compact         coupe   \n",
       "3                     luxury,performance      compact         coupe   \n",
       "4                                 luxury      compact   convertible   \n",
       "\n",
       "   highway_mpg  city_mpg  popularity   msrp  \n",
       "0           26        19        3916  46135  \n",
       "1           28        19        3916  40650  \n",
       "2           28        20        3916  36350  \n",
       "3           28        18        3916  29450  \n",
       "4           28        18        3916  34500  "
      ]
     },
     "execution_count": 6,
     "metadata": {},
     "output_type": "execute_result"
    }
   ],
   "source": [
    "df.head()"
   ]
  },
  {
   "cell_type": "code",
   "execution_count": 7,
   "id": "db28327e-43bc-4517-849c-4750c31bf163",
   "metadata": {},
   "outputs": [
    {
     "data": {
      "text/plain": [
       "make                  object\n",
       "model                 object\n",
       "year                   int64\n",
       "engine_fuel_type      object\n",
       "engine_hp            float64\n",
       "engine_cylinders     float64\n",
       "transmission_type     object\n",
       "driven_wheels         object\n",
       "number_of_doors      float64\n",
       "market_category       object\n",
       "vehicle_size          object\n",
       "vehicle_style         object\n",
       "highway_mpg            int64\n",
       "city_mpg               int64\n",
       "popularity             int64\n",
       "msrp                   int64\n",
       "dtype: object"
      ]
     },
     "execution_count": 7,
     "metadata": {},
     "output_type": "execute_result"
    }
   ],
   "source": [
    "df.dtypes"
   ]
  },
  {
   "cell_type": "markdown",
   "id": "1fd85d01-dc04-4e58-a846-69b7eaf8bbdb",
   "metadata": {},
   "source": [
    "# 2.3 Exploratory data analysis"
   ]
  },
  {
   "cell_type": "code",
   "execution_count": 8,
   "id": "0c145eb6-95b7-421b-b21b-2cc3e2f5306e",
   "metadata": {},
   "outputs": [
    {
     "name": "stdout",
     "output_type": "stream",
     "text": [
      "make\n",
      "['bmw' 'audi' 'fiat' 'mercedes-benz' 'chrysler']\n",
      "48\n",
      "\n",
      "model\n",
      "['1_series_m' '1_series' '100' '124_spider' '190-class']\n",
      "914\n",
      "\n",
      "year\n",
      "[2011 2012 2013 1992 1993]\n",
      "28\n",
      "\n",
      "engine_fuel_type\n",
      "['premium_unleaded_(required)' 'regular_unleaded'\n",
      " 'premium_unleaded_(recommended)' 'flex-fuel_(unleaded/e85)' 'diesel']\n",
      "10\n",
      "\n",
      "engine_hp\n",
      "[335. 300. 230. 320. 172.]\n",
      "356\n",
      "\n",
      "engine_cylinders\n",
      "[ 6.  4.  5.  8. 12.]\n",
      "9\n",
      "\n",
      "transmission_type\n",
      "['manual' 'automatic' 'automated_manual' 'direct_drive' 'unknown']\n",
      "5\n",
      "\n",
      "driven_wheels\n",
      "['rear_wheel_drive' 'front_wheel_drive' 'all_wheel_drive'\n",
      " 'four_wheel_drive']\n",
      "4\n",
      "\n",
      "number_of_doors\n",
      "[ 2.  4.  3. nan]\n",
      "3\n",
      "\n",
      "market_category\n",
      "['factory_tuner,luxury,high-performance' 'luxury,performance'\n",
      " 'luxury,high-performance' 'luxury' 'performance']\n",
      "71\n",
      "\n",
      "vehicle_size\n",
      "['compact' 'midsize' 'large']\n",
      "3\n",
      "\n",
      "vehicle_style\n",
      "['coupe' 'convertible' 'sedan' 'wagon' '4dr_hatchback']\n",
      "16\n",
      "\n",
      "highway_mpg\n",
      "[26 28 27 25 24]\n",
      "59\n",
      "\n",
      "city_mpg\n",
      "[19 20 18 17 16]\n",
      "69\n",
      "\n",
      "popularity\n",
      "[3916 3105  819  617 1013]\n",
      "48\n",
      "\n",
      "msrp\n",
      "[46135 40650 36350 29450 34500]\n",
      "6049\n",
      "\n"
     ]
    }
   ],
   "source": [
    "for col in df.columns:\n",
    "    print(col)\n",
    "    print(df[col].unique()[:5])\n",
    "    print(df[col].nunique())\n",
    "    print()"
   ]
  },
  {
   "cell_type": "markdown",
   "id": "4a55a49a-27a3-4fb7-ad61-d9d9230155fb",
   "metadata": {},
   "source": [
    "Distribution of price"
   ]
  },
  {
   "cell_type": "code",
   "execution_count": 9,
   "id": "16604764-ec67-46fb-859b-59710137257e",
   "metadata": {},
   "outputs": [],
   "source": [
    "import matplotlib.pyplot as plt\n",
    "import seaborn as sns\n",
    "\n",
    "%matplotlib inline"
   ]
  },
  {
   "cell_type": "markdown",
   "id": "a8d773f1-2ef1-41a1-9cc1-d1e16e203489",
   "metadata": {},
   "source": [
    "Explorando la distribucion del precio... Al hacer el gr'afico con todos los datos, vimos que hay una cola muy larga, hay coches con precios de hasta 2 millones. Por eso, recortamos esa cola y hacemos el grafico solo con datos donde el precio es menor a 100K"
   ]
  },
  {
   "cell_type": "code",
   "execution_count": 10,
   "id": "32a8cf5a-d65b-490b-9d78-ddb56beb6ff8",
   "metadata": {},
   "outputs": [
    {
     "data": {
      "text/plain": [
       "<Axes: xlabel='msrp', ylabel='Count'>"
      ]
     },
     "execution_count": 10,
     "metadata": {},
     "output_type": "execute_result"
    },
    {
     "data": {
      "image/png": "[encoded data removed]",
      "text/plain": [
       "<Figure size 640x480 with 1 Axes>"
      ]
     },
     "metadata": {},
     "output_type": "display_data"
    }
   ],
   "source": [
    "sns.histplot(df.msrp[df.msrp < 100000], bins=50)"
   ]
  },
  {
   "cell_type": "markdown",
   "id": "9607a0af-2eed-4948-a650-12061cf01268",
   "metadata": {},
   "source": [
    "Vemos que sigue habiendo una cola larga (the data skews to the right), para hacer el rango de datos mas compacto y simetrico (bell curve), apicamos logaritmo a todos los valores..."
   ]
  },
  {
   "cell_type": "code",
   "execution_count": 11,
   "id": "f8b7d75f-cd54-4a1a-87ab-37f95fad9c90",
   "metadata": {},
   "outputs": [],
   "source": [
    "price_logs = np.log1p(df.msrp)"
   ]
  },
  {
   "cell_type": "code",
   "execution_count": 12,
   "id": "282edc64-d86d-4f60-a269-1c630c1589a4",
   "metadata": {},
   "outputs": [
    {
     "data": {
      "text/plain": [
       "<Axes: xlabel='msrp', ylabel='Count'>"
      ]
     },
     "execution_count": 12,
     "metadata": {},
     "output_type": "execute_result"
    },
    {
     "data": {
      "image/png": "[encoded data removed]",
      "text/plain": [
       "<Figure size 640x480 with 1 Axes>"
      ]
     },
     "metadata": {},
     "output_type": "display_data"
    }
   ],
   "source": [
    "sns.histplot(price_logs, bins=50)"
   ]
  },
  {
   "cell_type": "markdown",
   "id": "f1728c6a-1d7a-4deb-b04a-4e993a123353",
   "metadata": {},
   "source": [
    "Al graficar los valores con el logaritmo aplicado, vemos que el rango es mas compacto y la grafica es mas simetrica."
   ]
  },
  {
   "cell_type": "markdown",
   "id": "f8440ffd-878f-4d2c-8890-de695386ec02",
   "metadata": {},
   "source": [
    "Missing values"
   ]
  },
  {
   "cell_type": "markdown",
   "id": "79045fa4-4cab-49c1-9d93-daf120ccf5a7",
   "metadata": {},
   "source": [
    "checamos cuantos null existen por cada columna"
   ]
  },
  {
   "cell_type": "code",
   "execution_count": 13,
   "id": "9d762278-52b2-44d7-8de7-c79388dee967",
   "metadata": {},
   "outputs": [
    {
     "data": {
      "text/plain": [
       "make                    0\n",
       "model                   0\n",
       "year                    0\n",
       "engine_fuel_type        3\n",
       "engine_hp              69\n",
       "engine_cylinders       30\n",
       "transmission_type       0\n",
       "driven_wheels           0\n",
       "number_of_doors         6\n",
       "market_category      3742\n",
       "vehicle_size            0\n",
       "vehicle_style           0\n",
       "highway_mpg             0\n",
       "city_mpg                0\n",
       "popularity              0\n",
       "msrp                    0\n",
       "dtype: int64"
      ]
     },
     "execution_count": 13,
     "metadata": {},
     "output_type": "execute_result"
    }
   ],
   "source": [
    "df.isnull().sum()"
   ]
  },
  {
   "cell_type": "markdown",
   "id": "61475fb3-a3da-40fd-998f-e08f15fdd510",
   "metadata": {},
   "source": [
    "# 2.4 Setting up the validation framework"
   ]
  },
  {
   "cell_type": "markdown",
   "id": "7090db06-efd6-4873-a0b5-a17b523d122c",
   "metadata": {},
   "source": [
    "Definir las dimensiones de cada dataset\n",
    "\n",
    "Train = 60%\n",
    "Validate = 20%\n",
    "Test = 20%"
   ]
  },
  {
   "cell_type": "code",
   "execution_count": 14,
   "id": "9fd3125b-1232-4772-b50d-cf08f04ed424",
   "metadata": {},
   "outputs": [],
   "source": [
    "n = len(df)\n",
    "\n",
    "n_val = int(n * 0.2)\n",
    "n_test = int(n * 0.2)\n",
    "n_train = n - n_val - n_test"
   ]
  },
  {
   "cell_type": "code",
   "execution_count": 15,
   "id": "8d493825-4e9f-4df4-9902-24ec2873b9d7",
   "metadata": {},
   "outputs": [
    {
     "data": {
      "text/plain": [
       "(2382, 2382, 7150)"
      ]
     },
     "execution_count": 15,
     "metadata": {},
     "output_type": "execute_result"
    }
   ],
   "source": [
    "n_val, n_test, n_train"
   ]
  },
  {
   "cell_type": "markdown",
   "id": "f39599aa-bf6a-4b80-af7e-25b69afd07cd",
   "metadata": {},
   "source": [
    "Para que los sub-datasets no traigan los registros en secuencia desde el dataset original, hay que generar un array de tamanio n, con numeros de 0 a n-1 randomizados"
   ]
  },
  {
   "cell_type": "code",
   "execution_count": 16,
   "id": "388067c5-c987-4fa0-895f-631f4def39ee",
   "metadata": {},
   "outputs": [],
   "source": [
    "idx = np.arange(n)"
   ]
  },
  {
   "cell_type": "code",
   "execution_count": 17,
   "id": "f576be3a-f5d4-4688-8328-47790a901a2f",
   "metadata": {},
   "outputs": [],
   "source": [
    "np.random.seed(2)\n",
    "np.random.shuffle(idx)"
   ]
  },
  {
   "cell_type": "markdown",
   "id": "01ecaa8c-5821-4849-8910-4f591636aa47",
   "metadata": {},
   "source": [
    "Traer del dataset original, un conjunto definido por los indexes randomizados (idx[:n_train])"
   ]
  },
  {
   "cell_type": "code",
   "execution_count": 18,
   "id": "07feed18-a2b7-44e9-bfea-b626473ec14f",
   "metadata": {},
   "outputs": [],
   "source": [
    "df_train = df.iloc[idx[:n_train]]\n",
    "df_val = df.iloc[idx[n_train:n_train+n_val]]\n",
    "df_test = df.iloc[idx[n_train+n_val:]]"
   ]
  },
  {
   "cell_type": "markdown",
   "id": "ddf5ecb6-ee1f-45ca-a7ac-b439f67d5d78",
   "metadata": {},
   "source": [
    "Los indexes de los nuevos datasets, seran los indexes traidos del dataset original, eso no nos sirve, vamos a eliminar esos y ponerlos de 0 al numero definido por el tamanio"
   ]
  },
  {
   "cell_type": "code",
   "execution_count": 19,
   "id": "9b678045-ff11-4087-b95b-b1d65c0247d0",
   "metadata": {},
   "outputs": [],
   "source": [
    "df_train = df_train.reset_index(drop=True)\n",
    "df_val = df_val.reset_index(drop=True)\n",
    "df_test = df_test.reset_index(drop=True)"
   ]
  },
  {
   "cell_type": "markdown",
   "id": "83529b39-d8de-404f-b9e5-c249c16a9f2e",
   "metadata": {},
   "source": [
    "Como mencionamos arriba, hay que aplicar el logaritmo al precio para compactar el rango de datos y hacerlos simetricos. Tambien, guardamos el precio en su propio array"
   ]
  },
  {
   "cell_type": "code",
   "execution_count": 20,
   "id": "6a6331f3-ae42-4f77-a056-106a89d2b23a",
   "metadata": {},
   "outputs": [],
   "source": [
    "y_train = np.log1p(df_train.msrp.values)\n",
    "y_val = np.log1p(df_val.msrp.values)\n",
    "y_test = np.log1p(df_test.msrp.values)"
   ]
  },
  {
   "cell_type": "markdown",
   "id": "cb0734dc-2e9f-4a65-b12a-6c5904daee28",
   "metadata": {},
   "source": [
    "Eliminamos el precio del dataset de los features"
   ]
  },
  {
   "cell_type": "code",
   "execution_count": 21,
   "id": "abdb231a-15ee-4076-8fe4-bc77908cd323",
   "metadata": {},
   "outputs": [],
   "source": [
    "del df_train['msrp']\n",
    "del df_val['msrp']\n",
    "del df_test['msrp']"
   ]
  },
  {
   "cell_type": "code",
   "execution_count": 22,
   "id": "92e8168d-61b9-43ee-b4d4-f7847719a86b",
   "metadata": {},
   "outputs": [
    {
     "data": {
      "text/plain": [
       "7150"
      ]
     },
     "execution_count": 22,
     "metadata": {},
     "output_type": "execute_result"
    }
   ],
   "source": [
    "len(y_train)"
   ]
  },
  {
   "cell_type": "markdown",
   "id": "33b9ace1-882d-4382-a390-0e897672d6f7",
   "metadata": {},
   "source": [
    "# 2.5 Linear regression"
   ]
  },
  {
   "cell_type": "markdown",
   "id": "35b9d033-9512-4e3c-80f3-94226a475b95",
   "metadata": {},
   "source": [
    "Un repaso rapido de como funciona la regresion lineal:"
   ]
  },
  {
   "cell_type": "code",
   "execution_count": 23,
   "id": "48b56cf4-a8e3-4b27-8d69-b887494e2661",
   "metadata": {},
   "outputs": [],
   "source": [
    "xi = [453, 11, 86]"
   ]
  },
  {
   "cell_type": "code",
   "execution_count": 24,
   "id": "e7f760d8-52de-4a8d-88a6-31aee737d2e5",
   "metadata": {},
   "outputs": [],
   "source": [
    "w0 = 7.17\n",
    "w = [1, 1, 1]"
   ]
  },
  {
   "cell_type": "code",
   "execution_count": 25,
   "id": "eae413d3-0d7c-4dad-9f04-0d9bf7985f00",
   "metadata": {},
   "outputs": [],
   "source": [
    "def linear_regression(xi):\n",
    "    n = len(xi)\n",
    "\n",
    "    pred = w0\n",
    "\n",
    "    for j in range(n):\n",
    "        pred = pred + w[j] * xi[j]\n",
    "\n",
    "    return pred"
   ]
  },
  {
   "cell_type": "code",
   "execution_count": 26,
   "id": "cdf91a0f-fd52-4656-81b5-332f5b0bbc89",
   "metadata": {},
   "outputs": [
    {
     "data": {
      "text/plain": [
       "557.1700000000001"
      ]
     },
     "execution_count": 26,
     "metadata": {},
     "output_type": "execute_result"
    }
   ],
   "source": [
    "linear_regression(xi)"
   ]
  },
  {
   "cell_type": "code",
   "execution_count": 27,
   "id": "f8764c59-05e9-4dd2-8285-670465133c5a",
   "metadata": {},
   "outputs": [
    {
     "data": {
      "text/plain": [
       "7.17"
      ]
     },
     "execution_count": 27,
     "metadata": {},
     "output_type": "execute_result"
    }
   ],
   "source": [
    "w0"
   ]
  },
  {
   "cell_type": "markdown",
   "id": "d56f2ff1-cbec-4997-913b-031c4f8213e9",
   "metadata": {},
   "source": [
    "# 2.6 Linear regression vector form"
   ]
  },
  {
   "cell_type": "markdown",
   "id": "9adaea69-4a76-414b-b213-c41bb906b344",
   "metadata": {},
   "source": [
    "Primero definimos el dot product de los valores a la derecha del w0 en la formula de la linear reg"
   ]
  },
  {
   "cell_type": "code",
   "execution_count": 28,
   "id": "7dd06d41-61da-4b99-98e3-b028584a25f1",
   "metadata": {},
   "outputs": [],
   "source": [
    "def dot(xi, w):\n",
    "    n = len(xi)\n",
    "\n",
    "    res = 0.0\n",
    "\n",
    "    for j in range(n):\n",
    "        res = res + xi[j] * w[j]\n",
    "\n",
    "    return res"
   ]
  },
  {
   "cell_type": "markdown",
   "id": "7b0971f7-5487-4ea6-b2ba-a012af90769c",
   "metadata": {},
   "source": [
    "Despues, en la funcion de linear reg, sumamos w0 al dot product anterior"
   ]
  },
  {
   "cell_type": "code",
   "execution_count": 29,
   "id": "46dd93ee-1fad-40ec-a6f6-a80013bfdb14",
   "metadata": {},
   "outputs": [],
   "source": [
    "def linear_regression(xi):\n",
    "    return w0 + dot(xi, w)"
   ]
  },
  {
   "cell_type": "markdown",
   "id": "414fade6-42b5-45c2-8a33-6729110ca380",
   "metadata": {},
   "source": [
    "Va otro ejemplo, pero ahora, vamos a incluir el w0 en el dot product. Al final, para incluir el w0 en el dot product, solamente lo agregamos como otro weight y multiplicandolo por 1, para que quede igual. Entonces la formula de lnear reg, en vez de ser w0 mas el dot product, la podemos simplificar, incluyendo el w0 como parte del dot product. Es decir, el w0 es parte del vector w, en vez de estar afuera."
   ]
  },
  {
   "cell_type": "code",
   "execution_count": 30,
   "id": "a60794e9-c179-4d6f-9e33-aa3e4424b9d1",
   "metadata": {},
   "outputs": [],
   "source": [
    "w0 = 7.17\n",
    "w = [0.01, 0.04, 0.002]\n",
    "w_new = [w0] + w"
   ]
  },
  {
   "cell_type": "markdown",
   "id": "ba4011e2-ad4c-44f7-8b92-5841fdb1fe8a",
   "metadata": {},
   "source": [
    " Creamos un dataset de ejemplo, notar que siempre hay un 1 al inicio, esto es, como dice arriba, para multiplicarlo por el w0 y quede igual.\n",
    "\n",
    " Despues, creamos la lista X y la convertimos en un array de listas."
   ]
  },
  {
   "cell_type": "code",
   "execution_count": 31,
   "id": "61735520-bcc0-4e0c-8309-dc337e227bfe",
   "metadata": {},
   "outputs": [
    {
     "data": {
      "text/plain": [
       "array([[   1,  148,   24, 1385],\n",
       "       [   1,  132,   25, 2031],\n",
       "       [   1,  453,   11,   86]])"
      ]
     },
     "execution_count": 31,
     "metadata": {},
     "output_type": "execute_result"
    }
   ],
   "source": [
    "x1 = [1, 148, 24, 1385]\n",
    "x2 = [1, 132, 25, 2031]\n",
    "x10 = [1, 453, 11, 86]\n",
    "\n",
    "X = [x1, x2, x10]\n",
    "X = np.array(X)\n",
    "X"
   ]
  },
  {
   "cell_type": "markdown",
   "id": "b39af984-aedc-4d12-a40c-293d9fb03695",
   "metadata": {},
   "source": [
    "Entonces, podemos llevar a cabo el calculo de la linear reg, solamente con la funcion dot(), ya que el w0 es parte del vector w y el 1, parte del vector x."
   ]
  },
  {
   "cell_type": "code",
   "execution_count": 32,
   "id": "67f9277c-a891-4982-9f6c-602ab2e6957d",
   "metadata": {},
   "outputs": [],
   "source": [
    "def linear_regression(X):\n",
    "    return X.dot(w_new)"
   ]
  },
  {
   "cell_type": "code",
   "execution_count": 33,
   "id": "08973cee-ca4d-48d0-bbb8-991d2aae6f91",
   "metadata": {},
   "outputs": [
    {
     "data": {
      "text/plain": [
       "array([12.38 , 13.552, 12.312])"
      ]
     },
     "execution_count": 33,
     "metadata": {},
     "output_type": "execute_result"
    }
   ],
   "source": [
    "linear_regression(X)"
   ]
  },
  {
   "cell_type": "markdown",
   "id": "9c4d028b-f83b-4e0c-9199-fbec20bec05d",
   "metadata": {},
   "source": [
    "# 2.7 Training a linear regression model"
   ]
  },
  {
   "cell_type": "code",
   "execution_count": 34,
   "id": "8599a1d4-58df-4e57-8794-c7dce6c51097",
   "metadata": {},
   "outputs": [],
   "source": [
    "def train_linear_regression(X, y):\n",
    "    pass"
   ]
  },
  {
   "cell_type": "markdown",
   "id": "e995cef3-908c-4c73-986d-10480b2f0397",
   "metadata": {},
   "source": [
    "Definimos un dataset para trabajar, ojo, no tiene 1's al inicio"
   ]
  },
  {
   "cell_type": "code",
   "execution_count": 35,
   "id": "20f13123-8d16-4b87-894b-fc05fb8630ff",
   "metadata": {},
   "outputs": [
    {
     "data": {
      "text/plain": [
       "array([[ 148,   24, 1385],\n",
       "       [ 132,   25, 2031],\n",
       "       [ 453,   11,   86],\n",
       "       [ 158,   24,  185],\n",
       "       [ 172,   25,  201],\n",
       "       [ 413,   11,   86],\n",
       "       [  38,   54,  185],\n",
       "       [ 142,   25,  431],\n",
       "       [ 453,   31,   86]])"
      ]
     },
     "execution_count": 35,
     "metadata": {},
     "output_type": "execute_result"
    }
   ],
   "source": [
    "X = [\n",
    "    [148,   24, 1385],\n",
    "    [132,   25, 2031],\n",
    "    [453,   11,   86],\n",
    "    [158,   24, 185],\n",
    "    [172,   25, 201],\n",
    "    [413,   11,   86],\n",
    "    [38,   54, 185],\n",
    "    [142,   25, 431],\n",
    "    [453,   31,   86],\n",
    "]\n",
    "\n",
    "X = np.array(X)\n",
    "X"
   ]
  },
  {
   "cell_type": "markdown",
   "id": "43b7e1da-9742-41d7-aa8b-af0dd305629b",
   "metadata": {},
   "source": [
    "Creamos un vector con 1's de tamaño X.shape(0), el numero de rows de X"
   ]
  },
  {
   "cell_type": "code",
   "execution_count": 36,
   "id": "0d79911b-289c-4e52-b52b-0961e982c731",
   "metadata": {},
   "outputs": [
    {
     "data": {
      "text/plain": [
       "array([1., 1., 1., 1., 1., 1., 1., 1., 1.])"
      ]
     },
     "execution_count": 36,
     "metadata": {},
     "output_type": "execute_result"
    }
   ],
   "source": [
    "ones = np.ones(X.shape[0])\n",
    "ones"
   ]
  },
  {
   "cell_type": "markdown",
   "id": "9f28d655-0568-470c-a8aa-b6c3150b0f5d",
   "metadata": {},
   "source": [
    "Agregamos el vector que recien creamos a X, con column_stack"
   ]
  },
  {
   "cell_type": "code",
   "execution_count": 37,
   "id": "fcdf203b-8d17-4862-9613-3c8ec14e2958",
   "metadata": {},
   "outputs": [],
   "source": [
    "X = np.column_stack([ones, X])"
   ]
  },
  {
   "cell_type": "code",
   "execution_count": 38,
   "id": "aab73bda-ed16-42ae-b094-ba37d482d70e",
   "metadata": {},
   "outputs": [
    {
     "data": {
      "text/plain": [
       "array([[ 148,   24, 1385],\n",
       "       [ 132,   25, 2031],\n",
       "       [ 453,   11,   86],\n",
       "       [ 158,   24,  185],\n",
       "       [ 172,   25,  201],\n",
       "       [ 413,   11,   86],\n",
       "       [  38,   54,  185],\n",
       "       [ 142,   25,  431],\n",
       "       [ 453,   31,   86]])"
      ]
     },
     "execution_count": 38,
     "metadata": {},
     "output_type": "execute_result"
    }
   ],
   "source": [
    "X = [\n",
    "    [148,   24, 1385],\n",
    "    [132,   25, 2031],\n",
    "    [453,   11,   86],\n",
    "    [158,   24, 185],\n",
    "    [172,   25, 201],\n",
    "    [413,   11,   86],\n",
    "    [38,   54, 185],\n",
    "    [142,   25, 431],\n",
    "    [453,   31,   86],\n",
    "]\n",
    "\n",
    "X = np.array(X)\n",
    "X"
   ]
  },
  {
   "cell_type": "markdown",
   "id": "78ab3698-b61e-4820-8642-968271e07475",
   "metadata": {},
   "source": [
    "Creamos un dataset con los precios"
   ]
  },
  {
   "cell_type": "code",
   "execution_count": 39,
   "id": "1e86301e-d5af-464b-b076-746bee1002cd",
   "metadata": {},
   "outputs": [],
   "source": [
    "y = [10000, 20000, 15000, 20050, 10000, 20000, 15000, 25000, 12000]"
   ]
  },
  {
   "cell_type": "markdown",
   "id": "a6b3aa58-116d-47e0-985d-375db4a09bfd",
   "metadata": {},
   "source": [
    "Para obtener w (los weights), tenemos la formula que debemos hacer en los siguientes pasos:\n",
    "\n",
    "1. Hacer Transpose de X --> X.T\n",
    "2. El Transpose, multiplicarlo por X --> X.T.dot(X)"
   ]
  },
  {
   "cell_type": "code",
   "execution_count": 40,
   "id": "474d75aa-f68c-4848-b78e-6cecf8a3b77c",
   "metadata": {},
   "outputs": [
    {
     "data": {
      "text/plain": [
       "array([[ 696471,   44115,  718540],\n",
       "       [  44115,    7146,  118803],\n",
       "       [ 718540,  118803, 6359986]])"
      ]
     },
     "execution_count": 40,
     "metadata": {},
     "output_type": "execute_result"
    }
   ],
   "source": [
    "XTX = X.T.dot(X)\n",
    "XTX"
   ]
  },
  {
   "cell_type": "markdown",
   "id": "07dc9fd3-9ed7-45bc-9062-1f72b56c1c9f",
   "metadata": {},
   "source": [
    "3. Sacar la Inversa --> np.linalg.inv(XTX)"
   ]
  },
  {
   "cell_type": "code",
   "execution_count": 41,
   "id": "bc74db68-97b3-40b1-914f-58f11545cca5",
   "metadata": {},
   "outputs": [],
   "source": [
    "XTX_inv = np.linalg.inv(XTX)"
   ]
  },
  {
   "cell_type": "markdown",
   "id": "36e182f5-4f9b-445a-b712-40b86efd1fe8",
   "metadata": {},
   "source": [
    "4. Por ultimo, la inversa multiplicarla por Transpose de X por Y"
   ]
  },
  {
   "cell_type": "code",
   "execution_count": 42,
   "id": "4e93e733-c830-409b-b18f-00e94c8d3813",
   "metadata": {},
   "outputs": [],
   "source": [
    "w_full = XTX_inv.dot(X.T).dot(y)"
   ]
  },
  {
   "cell_type": "markdown",
   "id": "f01c9e36-1792-4795-a72a-cec221cf173b",
   "metadata": {},
   "source": [
    "Separar w0 de los demas. w0 es un numero, lo demas es un vector con los weights"
   ]
  },
  {
   "cell_type": "code",
   "execution_count": 43,
   "id": "4727e0a9-91d7-423a-a5b2-9f9b9931e3ce",
   "metadata": {},
   "outputs": [],
   "source": [
    "w0 = w_full[0]\n",
    "w = w_full[1:]"
   ]
  },
  {
   "cell_type": "code",
   "execution_count": 44,
   "id": "b52015cc-1f3c-4bd3-bb2e-c2c1a07d2d5b",
   "metadata": {},
   "outputs": [
    {
     "data": {
      "text/plain": [
       "(np.float64(26.08419497680291), array([286.12285934,   3.93813107]))"
      ]
     },
     "execution_count": 44,
     "metadata": {},
     "output_type": "execute_result"
    }
   ],
   "source": [
    "w0, w"
   ]
  },
  {
   "cell_type": "code",
   "execution_count": 45,
   "id": "07d179b9-2350-4197-829e-04e56e2bb9a7",
   "metadata": {},
   "outputs": [],
   "source": [
    "def train_linear_regression(X, y):\n",
    "    ones = np.ones(X.shape[0])\n",
    "    X = np.column_stack([ones, X])\n",
    "    XTX = X.T.dot(X)\n",
    "    XTX_inv = np.linalg.inv(XTX)\n",
    "    w_full = XTX_inv.dot(X.T).dot(y)\n",
    "\n",
    "    return w_full[0], w_full[1:]"
   ]
  },
  {
   "cell_type": "code",
   "execution_count": 46,
   "id": "07b478d8-7c5c-45be-95ea-91c1c9d239bf",
   "metadata": {},
   "outputs": [
    {
     "data": {
      "text/plain": [
       "(np.float64(25844.754055766753),\n",
       " array([ -16.08906468, -199.47254894,   -1.22802883]))"
      ]
     },
     "execution_count": 46,
     "metadata": {},
     "output_type": "execute_result"
    }
   ],
   "source": [
    "train_linear_regression(X, y)"
   ]
  },
  {
   "cell_type": "markdown",
   "id": "96c0b5fb-57b1-42ea-91ba-9f675df3f836",
   "metadata": {},
   "source": [
    "# 2.8 Car price baseline model"
   ]
  },
  {
   "cell_type": "code",
   "execution_count": 47,
   "id": "26b95282-e1bb-4af3-afcd-f0b629c49c4f",
   "metadata": {},
   "outputs": [
    {
     "data": {
      "text/plain": [
       "Index(['make', 'model', 'year', 'engine_fuel_type', 'engine_hp',\n",
       "       'engine_cylinders', 'transmission_type', 'driven_wheels',\n",
       "       'number_of_doors', 'market_category', 'vehicle_size', 'vehicle_style',\n",
       "       'highway_mpg', 'city_mpg', 'popularity'],\n",
       "      dtype='object')"
      ]
     },
     "execution_count": 47,
     "metadata": {},
     "output_type": "execute_result"
    }
   ],
   "source": [
    "df_train.columns"
   ]
  },
  {
   "cell_type": "markdown",
   "id": "10053b18-629c-4e55-9c6c-59728e10bb1a",
   "metadata": {},
   "source": [
    "Vamos a entrenar el modelo solo con las columnas que tienen numeros... creamos base[] con esas columnas"
   ]
  },
  {
   "cell_type": "code",
   "execution_count": 48,
   "id": "89cd2caf-8e33-48ac-a972-77cf0bed0f1d",
   "metadata": {},
   "outputs": [],
   "source": [
    "base = ['engine_hp','engine_cylinders', 'highway_mpg', 'city_mpg', 'popularity']"
   ]
  },
  {
   "cell_type": "markdown",
   "id": "376cfdde-59ed-4f3c-b8c6-054485c34df6",
   "metadata": {},
   "source": [
    "Asignamos a X_train los valores de esas columnas"
   ]
  },
  {
   "cell_type": "code",
   "execution_count": 49,
   "id": "56e8ea13-46f3-4004-9130-e7742a2363ee",
   "metadata": {},
   "outputs": [],
   "source": [
    "X_train = df_train[base].values"
   ]
  },
  {
   "cell_type": "markdown",
   "id": "273663e1-5536-4579-b420-c4ca7d5f8115",
   "metadata": {},
   "source": [
    "Escribimos ceros en donde hay Nan's"
   ]
  },
  {
   "cell_type": "code",
   "execution_count": 50,
   "id": "1ae6b1a4-6205-4b71-a160-4c8914fc0984",
   "metadata": {},
   "outputs": [],
   "source": [
    "X_train = df_train[base].fillna(0).values"
   ]
  },
  {
   "cell_type": "markdown",
   "id": "c3bd6efd-5889-4573-b323-90dc8b54c47e",
   "metadata": {},
   "source": [
    "Ahora si, entrenamos el modelo con el dataset X_train y sus targets y_train. Guardamos w0 y w con todos los weights"
   ]
  },
  {
   "cell_type": "code",
   "execution_count": 51,
   "id": "dc735c02-1423-4c98-8224-d230141a7e02",
   "metadata": {},
   "outputs": [],
   "source": [
    "w0, w = train_linear_regression(X_train, y_train)"
   ]
  },
  {
   "cell_type": "markdown",
   "id": "2ed82bb3-7fba-4074-b798-8a7c1217febf",
   "metadata": {},
   "source": [
    "Vamos a correr el modelo utilizando el mismo dataset X_train y guardamos las predicciones en y_pred"
   ]
  },
  {
   "cell_type": "code",
   "execution_count": 52,
   "id": "9e66c303-db03-428b-9aa6-fa0635e45243",
   "metadata": {},
   "outputs": [],
   "source": [
    "y_pred = w0 + X_train.dot(w)"
   ]
  },
  {
   "cell_type": "code",
   "execution_count": 53,
   "id": "694d05a0-bc6c-4f11-9a70-11fa1e38d30f",
   "metadata": {},
   "outputs": [
    {
     "data": {
      "text/plain": [
       "array([ 9.54792783,  9.38733977,  9.67197758, ..., 10.30423015,\n",
       "       11.9778914 ,  9.99863111], shape=(7150,))"
      ]
     },
     "execution_count": 53,
     "metadata": {},
     "output_type": "execute_result"
    }
   ],
   "source": [
    "y_pred"
   ]
  },
  {
   "cell_type": "markdown",
   "id": "d9b975ea-a978-47a9-a2a6-de0dfdc5de24",
   "metadata": {},
   "source": [
    "Graficamos las predicciones y los targets para ver que tan diferente son las predicciones del modelo.\n",
    "\n",
    "Podemos ver que las predicciones siempre seon mas bajas que los targets. Ahora, necesitamos tener una forma estricta para decir si el modelo es bueno o mal, no basta con ver las grafica. Para eso utilizaremos RMSE 'root mean squared error'"
   ]
  },
  {
   "cell_type": "code",
   "execution_count": 54,
   "id": "03a41f2c-7c81-41f9-9453-3b8287b83abe",
   "metadata": {},
   "outputs": [
    {
     "data": {
      "text/plain": [
       "<Axes: ylabel='Count'>"
      ]
     },
     "execution_count": 54,
     "metadata": {},
     "output_type": "execute_result"
    },
    {
     "data": {
      "image/png": "[encoded data removed]",
      "text/plain": [
       "<Figure size 640x480 with 1 Axes>"
      ]
     },
     "metadata": {},
     "output_type": "display_data"
    }
   ],
   "source": [
    "sns.histplot(y_pred, color='red', alpha=0.5, bins=50)\n",
    "sns.histplot(y_train, color='blue', alpha=0.5, bins=50)"
   ]
  },
  {
   "cell_type": "markdown",
   "id": "ca8ef791-cc27-4c33-a62e-d0ea03ab58ee",
   "metadata": {},
   "source": [
    "# 2.9 RMSE (Root Mean Square Error)"
   ]
  },
  {
   "cell_type": "markdown",
   "id": "18941a46-5c18-4538-978a-cd986166081d",
   "metadata": {},
   "source": [
    "El RMSE es una medida que nos permite entender el desempeño del modelo. Es un promedio del error de todas las observaciones."
   ]
  },
  {
   "cell_type": "code",
   "execution_count": 55,
   "id": "3a29ce4c-a282-46a0-b8c4-d05efb53c8d4",
   "metadata": {},
   "outputs": [],
   "source": [
    "def rmse(y, y_pred):\n",
    "    se = (y - y_pred) ** 2\n",
    "    mse = se.mean()\n",
    "    return np.sqrt(mse)"
   ]
  },
  {
   "cell_type": "code",
   "execution_count": 56,
   "id": "2eed8d9f-aac6-4e34-871c-d6e9609d3f73",
   "metadata": {},
   "outputs": [
    {
     "data": {
      "text/plain": [
       "np.float64(0.7554192603920132)"
      ]
     },
     "execution_count": 56,
     "metadata": {},
     "output_type": "execute_result"
    }
   ],
   "source": [
    "rmse(y_train, y_pred)"
   ]
  },
  {
   "cell_type": "markdown",
   "id": "b270fe3b-604d-47a2-a3a4-1e62399cb49a",
   "metadata": {},
   "source": [
    "# 2.10 Validating the model"
   ]
  },
  {
   "cell_type": "markdown",
   "id": "bf10a948-1c10-4984-92cc-90023d744f88",
   "metadata": {},
   "source": [
    "Preparamos el training dataset, es decir, seleccionamos las columnas que necesitamos (las definimos arriba en base[]), y reemplazamos Nan con 0's"
   ]
  },
  {
   "cell_type": "code",
   "execution_count": 57,
   "id": "c1b848ae-37c7-436b-9028-504ba11885d5",
   "metadata": {},
   "outputs": [],
   "source": [
    "def prepare_X(df):\n",
    "    df_num = df[base]\n",
    "    df_num = df_num.fillna(0)\n",
    "    X = df_num.values\n",
    "\n",
    "    return X"
   ]
  },
  {
   "cell_type": "markdown",
   "id": "554fe971-7351-4cd1-b03a-1712e629e413",
   "metadata": {},
   "source": [
    "Entrenamos el modelo y lo corremos con el dataset de validacion (X_val). Obtenemos un RMSE de 0.7616"
   ]
  },
  {
   "cell_type": "code",
   "execution_count": 58,
   "id": "dee3f6cb-b8c2-4586-baa8-d979b6057f72",
   "metadata": {},
   "outputs": [
    {
     "data": {
      "text/plain": [
       "np.float64(0.761653099130156)"
      ]
     },
     "execution_count": 58,
     "metadata": {},
     "output_type": "execute_result"
    }
   ],
   "source": [
    "X_train = prepare_X(df_train)\n",
    "w0, w = train_linear_regression(X_train, y_train)\n",
    "\n",
    "X_val = prepare_X(df_val)\n",
    "y_pred = w0 + X_val.dot(w)\n",
    "\n",
    "rmse(y_val, y_pred)"
   ]
  },
  {
   "cell_type": "markdown",
   "id": "f65166d7-3004-438e-ad17-151396035b7d",
   "metadata": {},
   "source": [
    "# 2.11 Simple feature engineering"
   ]
  },
  {
   "cell_type": "markdown",
   "id": "bd2f507d-7cfe-4bde-8f96-cdc56e078d14",
   "metadata": {},
   "source": [
    "Vamos a agregar una variable al dataset original, esta es el año del auto"
   ]
  },
  {
   "cell_type": "code",
   "execution_count": 59,
   "id": "e4fb2dbc-83e5-428b-a84e-0ab8d1e19156",
   "metadata": {},
   "outputs": [
    {
     "data": {
      "text/plain": [
       "0        9\n",
       "1        5\n",
       "2        1\n",
       "3       26\n",
       "4        0\n",
       "        ..\n",
       "7145     2\n",
       "7146     2\n",
       "7147     2\n",
       "7148     3\n",
       "7149     0\n",
       "Name: year, Length: 7150, dtype: int64"
      ]
     },
     "execution_count": 59,
     "metadata": {},
     "output_type": "execute_result"
    }
   ],
   "source": [
    "2017 - df_train.year"
   ]
  },
  {
   "cell_type": "markdown",
   "id": "6199c6e7-0e9c-4525-9b0a-646251b2a6c3",
   "metadata": {},
   "source": [
    "Preparamos el dataset para volver a entrenar el modelo, esta vez con la variable nueva \"age\", o sea, la edad del auto.\n",
    "Creamos una copia del dataset para no modificar el original.\n",
    "Creamos la columna 'age', que es el año en que se creo el dataset (df_train.year.max())\n",
    "La agregamos a las columnas que seleccionamos anteriormente (features = base + ['age'])\n",
    "Ponemos 0's en los Nans"
   ]
  },
  {
   "cell_type": "code",
   "execution_count": 60,
   "id": "04616ae8-465d-4284-aa94-dc247a7442b5",
   "metadata": {},
   "outputs": [],
   "source": [
    "def prepare_X(df):\n",
    "    df = df.copy()\n",
    "    \n",
    "    df['age'] = 2017 - df.year\n",
    "    features = base + ['age']\n",
    "    \n",
    "    df_num = df[features]\n",
    "    df_num = df_num.fillna(0)\n",
    "    X = df_num.values\n",
    "\n",
    "    return X"
   ]
  },
  {
   "cell_type": "markdown",
   "id": "d81feaba-25fa-426c-a7d3-1f0fbcfcb951",
   "metadata": {},
   "source": [
    "Volvemos a entrenar al modelo, ahora con la nueva variable 'age'.\n",
    "Preparamos el dataset de validacion.\n",
    "Corremos el modelo con el dataset de validacion.\n",
    "Obtenemos un RMSE de 0.5172, mejor que el anterior (0.7616), lo cual hace s"
   ]
  },
  {
   "cell_type": "code",
   "execution_count": 61,
   "id": "360fd669-c1c8-41c4-bd3c-f02b81e7a49e",
   "metadata": {},
   "outputs": [
    {
     "data": {
      "text/plain": [
       "np.float64(0.5172055461058299)"
      ]
     },
     "execution_count": 61,
     "metadata": {},
     "output_type": "execute_result"
    }
   ],
   "source": [
    "X_train = prepare_X(df_train)\n",
    "w0, w = train_linear_regression(X_train, y_train)\n",
    "\n",
    "X_val = prepare_X(df_val)\n",
    "y_pred = w0 + X_val.dot(w)\n",
    "\n",
    "rmse(y_val, y_pred)"
   ]
  },
  {
   "cell_type": "markdown",
   "id": "7a92b2f4-a2da-41da-bb47-d51901b12fcf",
   "metadata": {},
   "source": [
    "# 2.12 Categorical variables"
   ]
  },
  {
   "cell_type": "code",
   "execution_count": 62,
   "id": "481dfdd6-3c7e-4a34-b4bb-7e3c7bf5977e",
   "metadata": {},
   "outputs": [],
   "source": [
    "def prepare_X(df):\n",
    "    df = df.copy()\n",
    "    features = base.copy()\n",
    "    \n",
    "    df['age'] = 2017 - df.year\n",
    "    features.append('age')\n",
    "\n",
    "    for v in [2, 3, 4]:\n",
    "        df['num_doors_%s' % v] = (df.number_of_doors == v).astype('int')\n",
    "        features.append('num_doors_%s' % v)\n",
    "    \n",
    "    df_num = df[features]\n",
    "    df_num = df_num.fillna(0)\n",
    "    X = df_num.values\n",
    "\n",
    "    return X"
   ]
  },
  {
   "cell_type": "code",
   "execution_count": 63,
   "id": "d7b4dc4f-f6a9-4347-931a-1df1a131a060",
   "metadata": {},
   "outputs": [
    {
     "data": {
      "text/plain": [
       "np.float64(0.515799564150169)"
      ]
     },
     "execution_count": 63,
     "metadata": {},
     "output_type": "execute_result"
    }
   ],
   "source": [
    "X_train = prepare_X(df_train)\n",
    "w0, w = train_linear_regression(X_train, y_train)\n",
    "\n",
    "X_val = prepare_X(df_val)\n",
    "y_pred = w0 + X_val.dot(w)\n",
    "\n",
    "rmse(y_val, y_pred)"
   ]
  },
  {
   "cell_type": "code",
   "execution_count": 64,
   "id": "ba9144c6-90fd-4cdf-86f9-967fec05e50f",
   "metadata": {},
   "outputs": [],
   "source": [
    "makes = list(df.make.value_counts().head().index)"
   ]
  },
  {
   "cell_type": "code",
   "execution_count": 65,
   "id": "d66d5884-5931-47ec-983b-f68302822c97",
   "metadata": {},
   "outputs": [],
   "source": [
    "def prepare_X(df):\n",
    "    df = df.copy()\n",
    "    features = base.copy()\n",
    "    \n",
    "    df['age'] = 2017 - df.year\n",
    "    features.append('age')\n",
    "\n",
    "    for v in [2, 3, 4]:\n",
    "        df['num_doors_%s' % v] = (df.number_of_doors == v).astype('int')\n",
    "        features.append('num_doors_%s' % v)\n",
    "\n",
    "    for v in makes:\n",
    "        df['make_%s' % v] = (df.make == v).astype('int')\n",
    "        features.append('make_%s' % v)\n",
    "    \n",
    "    df_num = df[features]\n",
    "    df_num = df_num.fillna(0)\n",
    "    X = df_num.values\n",
    "\n",
    "    return X"
   ]
  },
  {
   "cell_type": "code",
   "execution_count": 66,
   "id": "3191354b-bca6-4a12-9e77-b62d8e4c25a5",
   "metadata": {},
   "outputs": [
    {
     "data": {
      "text/plain": [
       "np.float64(0.5076038849556795)"
      ]
     },
     "execution_count": 66,
     "metadata": {},
     "output_type": "execute_result"
    }
   ],
   "source": [
    "X_train = prepare_X(df_train)\n",
    "w0, w = train_linear_regression(X_train, y_train)\n",
    "\n",
    "X_val = prepare_X(df_val)\n",
    "y_pred = w0 + X_val.dot(w)\n",
    "\n",
    "rmse(y_val, y_pred)"
   ]
  },
  {
   "cell_type": "code",
   "execution_count": 67,
   "id": "b5009189-fdc2-41c0-9e64-cd6c6a8a107f",
   "metadata": {},
   "outputs": [
    {
     "data": {
      "text/plain": [
       "make                  object\n",
       "model                 object\n",
       "year                   int64\n",
       "engine_fuel_type      object\n",
       "engine_hp            float64\n",
       "engine_cylinders     float64\n",
       "transmission_type     object\n",
       "driven_wheels         object\n",
       "number_of_doors      float64\n",
       "market_category       object\n",
       "vehicle_size          object\n",
       "vehicle_style         object\n",
       "highway_mpg            int64\n",
       "city_mpg               int64\n",
       "popularity             int64\n",
       "dtype: object"
      ]
     },
     "execution_count": 67,
     "metadata": {},
     "output_type": "execute_result"
    }
   ],
   "source": [
    "df_train.dtypes"
   ]
  },
  {
   "cell_type": "code",
   "execution_count": 68,
   "id": "12f372c8-9db9-4871-8a2f-667dc60216d7",
   "metadata": {},
   "outputs": [],
   "source": [
    "categorical_variables = [\n",
    "    'make', 'engine_fuel_type', 'transmission_type', 'driven_wheels', 'market_category', 'vehicle_size', 'vehicle_style'\n",
    "]"
   ]
  },
  {
   "cell_type": "code",
   "execution_count": 69,
   "id": "262c49d7-172b-4089-b568-350ac8153f08",
   "metadata": {},
   "outputs": [],
   "source": [
    "categories = {}\n",
    "\n",
    "for c in categorical_variables:\n",
    "    categories[c] = list(df_train[c].value_counts().head().index)"
   ]
  },
  {
   "cell_type": "code",
   "execution_count": 70,
   "id": "849366e2-c287-43a5-9d2f-167e97e2dbe1",
   "metadata": {},
   "outputs": [
    {
     "data": {
      "text/plain": [
       "{'make': ['chevrolet', 'ford', 'volkswagen', 'toyota', 'dodge'],\n",
       " 'engine_fuel_type': ['regular_unleaded',\n",
       "  'premium_unleaded_(required)',\n",
       "  'premium_unleaded_(recommended)',\n",
       "  'flex-fuel_(unleaded/e85)',\n",
       "  'diesel'],\n",
       " 'transmission_type': ['automatic',\n",
       "  'manual',\n",
       "  'automated_manual',\n",
       "  'direct_drive',\n",
       "  'unknown'],\n",
       " 'driven_wheels': ['front_wheel_drive',\n",
       "  'rear_wheel_drive',\n",
       "  'all_wheel_drive',\n",
       "  'four_wheel_drive'],\n",
       " 'market_category': ['crossover',\n",
       "  'flex_fuel',\n",
       "  'luxury',\n",
       "  'hatchback',\n",
       "  'luxury,performance'],\n",
       " 'vehicle_size': ['compact', 'midsize', 'large'],\n",
       " 'vehicle_style': ['sedan',\n",
       "  '4dr_suv',\n",
       "  'coupe',\n",
       "  'convertible',\n",
       "  '4dr_hatchback']}"
      ]
     },
     "execution_count": 70,
     "metadata": {},
     "output_type": "execute_result"
    }
   ],
   "source": [
    "categories"
   ]
  },
  {
   "cell_type": "code",
   "execution_count": 71,
   "id": "fcb7aa05-3329-4bc3-97f6-d53c08d56dec",
   "metadata": {},
   "outputs": [],
   "source": [
    "def prepare_X(df):\n",
    "    df = df.copy()\n",
    "    \n",
    "    df['age'] = 2017 - df.year\n",
    "    features = base + ['age']\n",
    "\n",
    "    for v in [2, 3, 4]:\n",
    "        df['num_doors_%d' % v] = (df.number_of_doors == v).astype(int)\n",
    "        features.append('num_doors_%d' % v)\n",
    "\n",
    "    for name, values in categories.items():\n",
    "        for value in values:\n",
    "            df['%s_%s' % (name, value)] = (df[name] == value).astype(int)\n",
    "            features.append('%s_%s' % (name, value))\n",
    "    \n",
    "    df_num = df[features]\n",
    "    df_num = df_num.fillna(0)\n",
    "    X = df_num.values\n",
    "\n",
    "    return X"
   ]
  },
  {
   "cell_type": "code",
   "execution_count": 72,
   "id": "1e4f4f8c-5569-4a17-97e4-20977e06d195",
   "metadata": {},
   "outputs": [
    {
     "data": {
      "text/plain": [
       "np.float64(18.233065519897817)"
      ]
     },
     "execution_count": 72,
     "metadata": {},
     "output_type": "execute_result"
    }
   ],
   "source": [
    "X_train = prepare_X(df_train)\n",
    "w0, w = train_linear_regression(X_train, y_train)\n",
    "\n",
    "X_val = prepare_X(df_val)\n",
    "y_pred = w0 + X_val.dot(w)\n",
    "\n",
    "rmse(y_val, y_pred)"
   ]
  },
  {
   "cell_type": "code",
   "execution_count": 73,
   "id": "49407a1d-67fd-4dae-a2ea-b998219be152",
   "metadata": {},
   "outputs": [
    {
     "data": {
      "text/plain": [
       "np.float64(1490771050477478.8)"
      ]
     },
     "execution_count": 73,
     "metadata": {},
     "output_type": "execute_result"
    }
   ],
   "source": [
    "w0"
   ]
  },
  {
   "cell_type": "markdown",
   "id": "8c6c0555-b438-4c9a-81d6-792d6a78767a",
   "metadata": {},
   "source": [
    "# 2.13 Regularization"
   ]
  },
  {
   "cell_type": "code",
   "execution_count": 74,
   "id": "c1117d8a-025b-4c53-b32f-91572087ecdb",
   "metadata": {},
   "outputs": [
    {
     "data": {
      "text/plain": [
       "array([[4.       , 4.       , 4.       ],\n",
       "       [3.       , 5.       , 5.       ],\n",
       "       [5.       , 1.       , 1.       ],\n",
       "       [5.       , 4.       , 4.       ],\n",
       "       [7.       , 5.       , 5.       ],\n",
       "       [4.       , 5.       , 5.0000001]])"
      ]
     },
     "execution_count": 74,
     "metadata": {},
     "output_type": "execute_result"
    }
   ],
   "source": [
    "X = [\n",
    "    [4, 4, 4],\n",
    "    [3, 5, 5],\n",
    "    [5, 1, 1],\n",
    "    [5, 4, 4],\n",
    "    [7, 5, 5],\n",
    "    [4, 5, 5.0000001],\n",
    "]\n",
    "\n",
    "X = np.array(X)\n",
    "X"
   ]
  },
  {
   "cell_type": "code",
   "execution_count": 75,
   "id": "93fcb37b-e622-416e-8f1f-3fb04e9c0894",
   "metadata": {},
   "outputs": [],
   "source": [
    "y = [1, 2, 3, 1, 2, 3]"
   ]
  },
  {
   "cell_type": "code",
   "execution_count": 76,
   "id": "61a3b7bc-4e67-48c6-a658-7f38516c395b",
   "metadata": {},
   "outputs": [
    {
     "data": {
      "text/plain": [
       "array([[140.       , 111.       , 111.0000004],\n",
       "       [111.       , 108.       , 108.0000005],\n",
       "       [111.0000004, 108.0000005, 108.000001 ]])"
      ]
     },
     "execution_count": 76,
     "metadata": {},
     "output_type": "execute_result"
    }
   ],
   "source": [
    "XTX = X.T.dot(X)\n",
    "XTX"
   ]
  },
  {
   "cell_type": "code",
   "execution_count": 77,
   "id": "28c63732-a6b1-47eb-92e9-732871617f48",
   "metadata": {},
   "outputs": [],
   "source": [
    "XTX_inv = np.linalg.inv(XTX)"
   ]
  },
  {
   "cell_type": "code",
   "execution_count": 78,
   "id": "7061a35d-9b38-4e93-8500-bcb66bfa16ab",
   "metadata": {},
   "outputs": [
    {
     "data": {
      "text/plain": [
       "array([ 2.73776578e-01, -4.41093100e+06,  4.41093113e+06])"
      ]
     },
     "execution_count": 78,
     "metadata": {},
     "output_type": "execute_result"
    }
   ],
   "source": [
    "XTX_inv.dot(X.T).dot(y)"
   ]
  },
  {
   "cell_type": "code",
   "execution_count": 79,
   "id": "c33a3560-3822-4c2a-8770-6f7d81ced8c6",
   "metadata": {},
   "outputs": [],
   "source": [
    "XTX = [\n",
    "    [1, 2, 2],\n",
    "    [2, 1, 1.0000001],\n",
    "    [2, 1.0000001, 1]\n",
    "]\n",
    "\n",
    "XTX = np.array(XTX)"
   ]
  },
  {
   "cell_type": "code",
   "execution_count": 80,
   "id": "c0be676c-64f5-4e98-83d1-656db014d7ed",
   "metadata": {},
   "outputs": [
    {
     "data": {
      "text/plain": [
       "array([[-3.33333356e-01,  3.33333339e-01,  3.33333339e-01],\n",
       "       [ 3.33333339e-01, -5.00000008e+06,  4.99999991e+06],\n",
       "       [ 3.33333339e-01,  4.99999991e+06, -5.00000008e+06]])"
      ]
     },
     "execution_count": 80,
     "metadata": {},
     "output_type": "execute_result"
    }
   ],
   "source": [
    "np.linalg.inv(XTX)"
   ]
  },
  {
   "cell_type": "code",
   "execution_count": 81,
   "id": "7caff25c-4629-4d38-8168-165a9f63085f",
   "metadata": {},
   "outputs": [],
   "source": [
    "XTX = XTX + 0.01 * np.eye(3)"
   ]
  },
  {
   "cell_type": "code",
   "execution_count": 82,
   "id": "9097fcce-8f55-4d5b-9f20-786c21d2c393",
   "metadata": {},
   "outputs": [
    {
     "data": {
      "text/plain": [
       "array([[ -0.33668908,   0.33501399,   0.33501399],\n",
       "       [  0.33501399,  49.91590897, -50.08509104],\n",
       "       [  0.33501399, -50.08509104,  49.91590897]])"
      ]
     },
     "execution_count": 82,
     "metadata": {},
     "output_type": "execute_result"
    }
   ],
   "source": [
    "np.linalg.inv(XTX)"
   ]
  },
  {
   "cell_type": "code",
   "execution_count": 83,
   "id": "3b23dc65-dbc6-4b07-ad50-67c8a545b886",
   "metadata": {},
   "outputs": [],
   "source": [
    "def train_linear_regression_reg(X, y, r=0.001):\n",
    "    ones = np.ones(X.shape[0])\n",
    "    X = np.column_stack([ones, X])\n",
    "\n",
    "    XTX = X.T.dot(X)\n",
    "    XTX = XTX + r * np.eye(XTX.shape[0])\n",
    "\n",
    "    \n",
    "    XTX_inv = np.linalg.inv(XTX)\n",
    "    w_full = XTX_inv.dot(X.T).dot(y)\n",
    "\n",
    "    return w_full[0], w_full[1:]"
   ]
  },
  {
   "cell_type": "code",
   "execution_count": 84,
   "id": "2ef673c5-3d18-4931-9590-1d224e2406b6",
   "metadata": {},
   "outputs": [
    {
     "data": {
      "text/plain": [
       "np.float64(0.456521990159498)"
      ]
     },
     "execution_count": 84,
     "metadata": {},
     "output_type": "execute_result"
    }
   ],
   "source": [
    "X_train = prepare_X(df_train)\n",
    "w0, w = train_linear_regression_reg(X_train, y_train, r=0.01)\n",
    "\n",
    "X_val = prepare_X(df_val)\n",
    "y_pred = w0 + X_val.dot(w)\n",
    "\n",
    "rmse(y_val, y_pred)"
   ]
  },
  {
   "cell_type": "code",
   "execution_count": null,
   "id": "d9af804c-8757-46d8-883c-25c625c9a4ad",
   "metadata": {},
   "outputs": [],
   "source": []
  }
 ],
 "metadata": {
  "kernelspec": {
   "display_name": "Python 3 (ipykernel)",
   "language": "python",
   "name": "python3"
  },
  "language_info": {
   "codemirror_mode": {
    "name": "ipython",
    "version": 3
   },
   "file_extension": ".py",
   "mimetype": "text/x-python",
   "name": "python",
   "nbconvert_exporter": "python",
   "pygments_lexer": "ipython3",
   "version": "3.12.1"
  }
 },
 "nbformat": 4,
 "nbformat_minor": 5
}
